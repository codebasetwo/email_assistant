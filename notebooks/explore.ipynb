{
 "cells": [
  {
   "cell_type": "code",
   "execution_count": 1,
   "id": "3a7995bb",
   "metadata": {},
   "outputs": [],
   "source": [
    "from typing import TypedDict, Annotated\n",
    "from dotenv import load_dotenv, find_dotenv\n",
    "from langchain.chat_models import init_chat_model\n",
    "from langgraph.graph import StateGraph, END, START\n",
    "from langgraph.prebuilt import create_react_agent\n",
    "from langmem import create_manage_memory_tool, create_search_memory_tool"
   ]
  },
  {
   "cell_type": "code",
   "execution_count": 2,
   "id": "30b33719",
   "metadata": {},
   "outputs": [
    {
     "name": "stdout",
     "output_type": "stream",
     "text": [
      "Overwriting ../src/email_assistant/prompts.py\n"
     ]
    }
   ],
   "source": [
    "%%writefile ../src/email_assistant/prompts.py\n",
    "# Agent prompt baseline \n",
    "agent_system_prompt = \"\"\"\n",
    "< Role >\n",
    "You are {full_name}'s executive assistant. You are a top-notch executive assistant who cares about {name} performing as well as possible.\n",
    "</ Role >\n",
    "\n",
    "< Tools >\n",
    "You have access to the following tools to help manage {name}'s communications and schedule:\n",
    "\n",
    "1. write_email(to, subject, content) - Send emails to specified recipients\n",
    "2. schedule_meeting(attendees, subject, duration_minutes, preferred_day) - Schedule calendar meetings\n",
    "3. check_calendar_availability(day) - Check available time slots for a given day\n",
    "</ Tools >\n",
    "\n",
    "< Instructions >\n",
    "{instructions}\n",
    "</ Instructions >\n",
    "\"\"\"\n",
    "\n",
    "# Agent prompt semantic memory\n",
    "agent_system_prompt_memory = \"\"\"\n",
    "< Role >\n",
    "You are {full_name}'s executive assistant. You are a top-notch executive assistant who cares about {name} performing as well as possible.\n",
    "</ Role >\n",
    "\n",
    "< Tools >\n",
    "You have access to the following tools to help manage {name}'s communications and schedule:\n",
    "\n",
    "1. write_email(to, subject, content) - Send emails to specified recipients\n",
    "2. schedule_meeting(attendees, subject, duration_minutes, preferred_day) - Schedule calendar meetings\n",
    "3. check_calendar_availability(day) - Check available time slots for a given day\n",
    "4. manage_memory(\"email_assistant\", user, \"collection\") - Store any relevant information about contacts, actions, discussion, etc. in memory for future reference\n",
    "5. manage_memory(\"email_assistant\", user, \"user_profile\") - Store any relevant information about the recipient, {name}, in the user profile for future reference the current user profile is shown below\n",
    "6. search_memory(\"email_assistant\", user, \"collection\") - Search memory for detail from previous emails\n",
    "7. manage_memory(\"email_assistant\", user, \"instructions\") - Update the instructions for agent tool usage based upon the user feedback \n",
    "</ Tools >\n",
    "\n",
    "< User profile >\n",
    "{profile}\n",
    "</ User profile >\n",
    "\n",
    "< Instructions >\n",
    "{instructions}\n",
    "</ Instructions >\n",
    "\"\"\"\n",
    "\n",
    "# Triage prompt\n",
    "triage_system_prompt = \"\"\"\n",
    "< Role >\n",
    "You are {full_name}'s executive assistant. You are a top-notch executive assistant who cares about {name} performing as well as possible.\n",
    "</ Role >\n",
    "\n",
    "< Background >\n",
    "{user_profile_background}. \n",
    "</ Background >\n",
    "\n",
    "< Instructions >\n",
    "\n",
    "{name} gets lots of emails. Your job is to categorize each email into one of three categories:\n",
    "\n",
    "1. IGNORE - Emails that are not worth responding to or tracking\n",
    "2. NOTIFY - Important information that {name} should know about but doesn't require a response\n",
    "3. RESPOND - Emails that need a direct response from {name}\n",
    "\n",
    "Classify the below email into one of these categories.\n",
    "\n",
    "</ Instructions >\n",
    "\n",
    "< Rules >\n",
    "Emails that are not worth responding to:\n",
    "{triage_no}\n",
    "\n",
    "There are also other things that {name} should know about, but don't require an email response. For these, you should notify {name} (using the `notify` response). Examples of this include:\n",
    "{triage_notify}\n",
    "\n",
    "Emails that are worth responding to:\n",
    "{triage_email}\n",
    "</ Rules >\n",
    "\n",
    "< Few shot examples >\n",
    "{examples}\n",
    "</ Few shot examples >\n",
    "\"\"\"\n",
    "\n",
    "triage_user_prompt = \"\"\"\n",
    "Please determine how to handle the below email thread:\n",
    "\n",
    "From: {author}\n",
    "To: {to}\n",
    "Subject: {subject}\n",
    "{email_thread}\"\"\"\n"
   ]
  },
  {
   "cell_type": "code",
   "execution_count": 3,
   "id": "d0e40220",
   "metadata": {},
   "outputs": [],
   "source": [
    "from pydantic import BaseModel, Field\n",
    "from typing import Literal\n",
    "\n",
    "class Classify(BaseModel):\n",
    "    \"\"\"Analyzed the unreead email and classify it according to it contents.\"\"\"\n",
    "    description: str = Field(description=\"step by step reasoning behind choosing the classification\")\n",
    "    classification: Literal[\"ignore\", \"notify\", \"respond\"] = Field(\n",
    "        description=\"The classification of the email there are only 3 possible class:\" \\\n",
    "        \"1. ignore: for irrelevant emails that does not need a response\" \\\n",
    "        \"2. notify: for important emails that doesn't need a response\" \\\n",
    "        \"3. respond: for important emails that also needs to be replied and attended to.\")\n"
   ]
  },
  {
   "cell_type": "code",
   "execution_count": 4,
   "id": "b3be9cea",
   "metadata": {},
   "outputs": [],
   "source": [
    "_ = load_dotenv(find_dotenv())\n",
    "\n",
    "\n",
    "llm = init_chat_model(\"openai:gpt-4o-mini\")"
   ]
  },
  {
   "cell_type": "code",
   "execution_count": 5,
   "id": "8baeaefe",
   "metadata": {},
   "outputs": [
    {
     "data": {
      "text/plain": [
       "RunnableBinding(bound=ChatOpenAI(client=<openai.resources.chat.completions.completions.Completions object at 0x741f067b9f40>, async_client=<openai.resources.chat.completions.completions.AsyncCompletions object at 0x741f05f58110>, root_client=<openai.OpenAI object at 0x741f075ff890>, root_async_client=<openai.AsyncOpenAI object at 0x741f0604f5f0>, model_name='gpt-4o-mini', model_kwargs={}, openai_api_key=SecretStr('**********')), kwargs={'response_format': <class '__main__.Classify'>, 'ls_structured_output_format': {'kwargs': {'method': 'json_schema', 'strict': None}, 'schema': {'type': 'function', 'function': {'name': 'Classify', 'description': 'Analyzed the unreead email and classify it according to it contents.', 'parameters': {'properties': {'description': {'description': 'step by step reasoning behind choosing the classification', 'type': 'string'}, 'classification': {'description': \"The classification of the email there are only 3 possible class:1. ignore: for irrelevant emails that does not need a response2. notify: for important emails that doesn't need a response3. respond: for important emails that also needs to be replied and attended to.\", 'enum': ['ignore', 'notify', 'respond'], 'type': 'string'}}, 'required': ['description', 'classification'], 'type': 'object'}}}}}, config={}, config_factories=[])\n",
       "| RunnableBinding(bound=RunnableLambda(...), kwargs={}, config={}, config_factories=[], custom_output_type=<class '__main__.Classify'>)"
      ]
     },
     "execution_count": 5,
     "metadata": {},
     "output_type": "execute_result"
    }
   ],
   "source": [
    "llm_structured_outut =llm.with_structured_output(Classify)\n",
    "llm_structured_outut"
   ]
  },
  {
   "cell_type": "code",
   "execution_count": 6,
   "id": "146f967f",
   "metadata": {},
   "outputs": [],
   "source": [
    "user_profile = {\n",
    "    \"name\": \"Nnaemeka\",\n",
    "    \"full_name\": \"Nnaemeka Nwankwo\",\n",
    "    \"user_profile_background\": \"AI engineer. creating solutions with a AI agent leading a team of 3\"\n",
    "}\n",
    "\n",
    "prompt_instructions = {\n",
    "    \"triage_rules\": {\n",
    "        \"ignore\": \"Marketing newsletters, spam emails, mass company announcements\",\n",
    "        \"notify\": \"Team member out sick, build system notifications, project status updates\",\n",
    "        \"respond\": \"Direct questions from team members, meeting requests, critical bug reports\",\n",
    "    },\n",
    "    \"agent_instructions\": \"Use these tools when appropriate to help manage Nnaemeka's tasks efficiently.\"\n",
    "}\n",
    "\n",
    "# Example incoming email\n",
    "email = {\n",
    "    \"from\": \"Alice Smith <alice.smith@company.com>\",\n",
    "    \"to\": \"Nnaemeka Nwankwo <nnaemeka.nwankwo@company.com>\",\n",
    "    \"subject\": \"Quick question about API documentation\",\n",
    "    \"body\": \"\"\"\n",
    "Hi Nnaemeka,\n",
    "\n",
    "I was reviewing the API documentation for the new authentication service and noticed a few endpoints seem to be missing from the specs. Could you help clarify if this was intentional or if we should update the docs?\n",
    "\n",
    "Specifically, I'm looking at:\n",
    "- /auth/refresh\n",
    "- /auth/validate\n",
    "\n",
    "Thanks!\n",
    "Alice\"\"\",\n",
    "}"
   ]
  },
  {
   "cell_type": "code",
   "execution_count": 7,
   "id": "df1e0dc0",
   "metadata": {},
   "outputs": [],
   "source": [
    "from email_assistant.prompts import triage_system_prompt, triage_user_prompt, agent_system_prompt, agent_system_prompt_memory\n",
    "system_prompt = triage_system_prompt.format(\n",
    "    full_name=user_profile[\"full_name\"],\n",
    "    name=user_profile[\"name\"],\n",
    "    examples=None,\n",
    "    user_profile_background=user_profile[\"user_profile_background\"],\n",
    "    triage_no=prompt_instructions[\"triage_rules\"][\"ignore\"],\n",
    "    triage_notify=prompt_instructions[\"triage_rules\"][\"notify\"],\n",
    "    triage_email=prompt_instructions[\"triage_rules\"][\"respond\"],\n",
    ")"
   ]
  },
  {
   "cell_type": "code",
   "execution_count": 8,
   "id": "4bb011e7",
   "metadata": {},
   "outputs": [
    {
     "data": {
      "text/plain": [
       "\"\\nPlease determine how to handle the below email thread:\\n\\nFrom: Alice Smith <alice.smith@company.com>\\nTo: Nnaemeka Nwankwo <nnaemeka.nwankwo@company.com>\\nSubject: Quick question about API documentation\\n\\nHi Nnaemeka,\\n\\nI was reviewing the API documentation for the new authentication service and noticed a few endpoints seem to be missing from the specs. Could you help clarify if this was intentional or if we should update the docs?\\n\\nSpecifically, I'm looking at:\\n- /auth/refresh\\n- /auth/validate\\n\\nThanks!\\nAlice\""
      ]
     },
     "execution_count": 8,
     "metadata": {},
     "output_type": "execute_result"
    }
   ],
   "source": [
    "user_prompt = triage_user_prompt.format(\n",
    "    author=email[\"from\"],\n",
    "    to=email[\"to\"],\n",
    "    subject=email[\"subject\"],\n",
    "    email_thread=email[\"body\"],\n",
    ")\n",
    "user_prompt"
   ]
  },
  {
   "cell_type": "code",
   "execution_count": 9,
   "id": "27a6800d",
   "metadata": {},
   "outputs": [],
   "source": [
    "from langchain_core.messages import HumanMessage, SystemMessage, AIMessage\n",
    "\n",
    "result = llm_structured_outut.invoke(\n",
    "    [\n",
    "        SystemMessage(content = system_prompt),\n",
    "        HumanMessage(content=user_prompt),\n",
    "    ]\n",
    ")"
   ]
  },
  {
   "cell_type": "code",
   "execution_count": 10,
   "id": "994eec71",
   "metadata": {},
   "outputs": [
    {
     "data": {
      "text/plain": [
       "Classify(description='The email is from a team member (Alice) asking a direct question regarding the API documentation, specifically about missing endpoints. This requires clarification from Nnaemeka regarding whether the omissions were intentional or if updates are needed. Since it involves a direct inquiry that necessitates a response from Nnaemeka, it falls under the classification of needing a direct response.', classification='respond')"
      ]
     },
     "execution_count": 10,
     "metadata": {},
     "output_type": "execute_result"
    }
   ],
   "source": [
    "result"
   ]
  },
  {
   "cell_type": "code",
   "execution_count": 11,
   "id": "d259bf2d",
   "metadata": {},
   "outputs": [
    {
     "name": "stdout",
     "output_type": "stream",
     "text": [
      "The email is from a team member (Alice) asking a direct question regarding the API documentation, specifically about missing endpoints. This requires clarification from Nnaemeka regarding whether the omissions were intentional or if updates are needed. Since it involves a direct inquiry that necessitates a response from Nnaemeka, it falls under the classification of needing a direct response.\n",
      "respond\n"
     ]
    }
   ],
   "source": [
    "print(result.description)\n",
    "print(result.classification)"
   ]
  },
  {
   "cell_type": "code",
   "execution_count": 12,
   "id": "f393b22f",
   "metadata": {},
   "outputs": [],
   "source": [
    "# Create dummy agent tools for testing\n",
    "from langchain_core.tools import tool\n",
    "\n",
    "@tool\n",
    "def write_email(to: str, subject: str, content: str) -> str:\n",
    "    \"\"\"Write and send an email.\"\"\"\n",
    "    # Placeholder response - in real app would send email\n",
    "    return f\"Email sent to {to} with subject '{subject}'\"\n",
    "\n",
    "@tool\n",
    "def schedule_meeting(\n",
    "    attendees: list[str], \n",
    "    subject: str, \n",
    "    duration_minutes: int, \n",
    "    preferred_day: str\n",
    ") -> str:\n",
    "    \"\"\"Schedule a calendar meeting.\"\"\"\n",
    "    # Placeholder response - in real app would check calendar and schedule\n",
    "    return f\"Meeting '{subject}' scheduled for {preferred_day} with {len(attendees)} attendees for a duration of {duration_minutes}\"\n",
    "\n",
    "\n",
    "@tool\n",
    "def check_calendar_availability(day: str) -> str:\n",
    "    \"\"\"Check calendar availability for a given day.\"\"\"\n",
    "    # Placeholder response - in real app would check actual calendar\n",
    "    return f\"Available times on {day}: 9:00 AM, 2:00 PM, 4:00 PM\"\n"
   ]
  },
  {
   "cell_type": "code",
   "execution_count": 13,
   "id": "60fe3df0",
   "metadata": {},
   "outputs": [],
   "source": [
    "def create_prompt(state):\n",
    "    return [\n",
    "        {\n",
    "            \"role\": \"system\", \n",
    "            \"content\": agent_system_prompt.format(\n",
    "                instructions=prompt_instructions[\"agent_instructions\"],\n",
    "                **user_profile\n",
    "                )\n",
    "        }\n",
    "    ] + state['messages']"
   ]
  },
  {
   "cell_type": "code",
   "execution_count": 14,
   "id": "0a69848a",
   "metadata": {},
   "outputs": [],
   "source": [
    "tools = [write_email, check_calendar_availability, schedule_meeting]\n",
    "\n",
    "agent = create_react_agent(\n",
    "    \"openai:gpt-4o\",\n",
    "    tools=tools,\n",
    "    prompt=create_prompt,\n",
    ")"
   ]
  },
  {
   "cell_type": "code",
   "execution_count": 15,
   "id": "e97977e7",
   "metadata": {},
   "outputs": [],
   "source": [
    "response = agent.invoke(\n",
    "    {\"messages\": [{\n",
    "        \"role\": \"user\", \n",
    "        \"content\": \"what is my availability for tuesday?\"\n",
    "    }]}\n",
    ")"
   ]
  },
  {
   "cell_type": "code",
   "execution_count": 16,
   "id": "58be2a26",
   "metadata": {},
   "outputs": [
    {
     "data": {
      "text/plain": [
       "{'messages': [HumanMessage(content='what is my availability for tuesday?', additional_kwargs={}, response_metadata={}, id='dd40a892-690b-48dd-876e-4b5e2ccdcfbe'),\n",
       "  AIMessage(content='', additional_kwargs={'tool_calls': [{'id': 'call_UwXM240b8zR6kDMCX5natNwC', 'function': {'arguments': '{\"day\":\"2023-10-24\"}', 'name': 'check_calendar_availability'}, 'type': 'function'}], 'refusal': None}, response_metadata={'token_usage': {'completion_tokens': 21, 'prompt_tokens': 258, 'total_tokens': 279, 'completion_tokens_details': {'accepted_prediction_tokens': 0, 'audio_tokens': 0, 'reasoning_tokens': 0, 'rejected_prediction_tokens': 0}, 'prompt_tokens_details': {'audio_tokens': 0, 'cached_tokens': 0}}, 'model_name': 'gpt-4o-2024-08-06', 'system_fingerprint': 'fp_a288987b44', 'id': 'chatcmpl-BuldfVWXQzo3zwZCLamsRoOuoVz6P', 'service_tier': 'default', 'finish_reason': 'tool_calls', 'logprobs': None}, id='run--6a86e534-7588-458a-beae-0e5d63b680b3-0', tool_calls=[{'name': 'check_calendar_availability', 'args': {'day': '2023-10-24'}, 'id': 'call_UwXM240b8zR6kDMCX5natNwC', 'type': 'tool_call'}], usage_metadata={'input_tokens': 258, 'output_tokens': 21, 'total_tokens': 279, 'input_token_details': {'audio': 0, 'cache_read': 0}, 'output_token_details': {'audio': 0, 'reasoning': 0}}),\n",
       "  ToolMessage(content='Available times on 2023-10-24: 9:00 AM, 2:00 PM, 4:00 PM', name='check_calendar_availability', id='b8536062-71ea-48f8-a92d-25cce1c43d1e', tool_call_id='call_UwXM240b8zR6kDMCX5natNwC'),\n",
       "  AIMessage(content='You have availability on Tuesday, October 24th, at the following times:\\n\\n- 9:00 AM\\n- 2:00 PM\\n- 4:00 PM', additional_kwargs={'refusal': None}, response_metadata={'token_usage': {'completion_tokens': 37, 'prompt_tokens': 317, 'total_tokens': 354, 'completion_tokens_details': {'accepted_prediction_tokens': 0, 'audio_tokens': 0, 'reasoning_tokens': 0, 'rejected_prediction_tokens': 0}, 'prompt_tokens_details': {'audio_tokens': 0, 'cached_tokens': 0}}, 'model_name': 'gpt-4o-2024-08-06', 'system_fingerprint': 'fp_a288987b44', 'id': 'chatcmpl-Buldh64rBjGNoSrEJkOAh8ZwPM4Pc', 'service_tier': 'default', 'finish_reason': 'stop', 'logprobs': None}, id='run--1f335284-4842-407b-8bc1-01a6b2f6a923-0', usage_metadata={'input_tokens': 317, 'output_tokens': 37, 'total_tokens': 354, 'input_token_details': {'audio': 0, 'cache_read': 0}, 'output_token_details': {'audio': 0, 'reasoning': 0}})]}"
      ]
     },
     "execution_count": 16,
     "metadata": {},
     "output_type": "execute_result"
    }
   ],
   "source": [
    "response"
   ]
  },
  {
   "cell_type": "code",
   "execution_count": 17,
   "id": "fe13853f",
   "metadata": {},
   "outputs": [
    {
     "name": "stdout",
     "output_type": "stream",
     "text": [
      "==================================\u001b[1m Ai Message \u001b[0m==================================\n",
      "\n",
      "You have availability on Tuesday, October 24th, at the following times:\n",
      "\n",
      "- 9:00 AM\n",
      "- 2:00 PM\n",
      "- 4:00 PM\n"
     ]
    }
   ],
   "source": [
    "\n",
    "response[\"messages\"][-1].pretty_print()"
   ]
  },
  {
   "cell_type": "code",
   "execution_count": 18,
   "id": "1d30dfe1",
   "metadata": {},
   "outputs": [],
   "source": [
    "from langgraph.graph import add_messages\n",
    "class State(TypedDict):\n",
    "    email_input: dict\n",
    "    messages: Annotated[list, add_messages]"
   ]
  },
  {
   "cell_type": "code",
   "execution_count": 19,
   "id": "3ff977b2",
   "metadata": {},
   "outputs": [],
   "source": [
    "from langgraph.types import Command\n",
    "from IPython.display import Image, display"
   ]
  },
  {
   "cell_type": "code",
   "execution_count": 20,
   "id": "e0df7080",
   "metadata": {},
   "outputs": [],
   "source": [
    "def triage_router(state: State) -> Command[\n",
    "    Literal[\"response_agent\", \"__end__\"]\n",
    "]:\n",
    "    author = state['email_input']['author']\n",
    "    to = state['email_input']['to']\n",
    "    subject = state['email_input']['subject']\n",
    "    email_thread = state['email_input']['email_thread']\n",
    "\n",
    "    system_prompt = triage_system_prompt.format(\n",
    "        full_name=user_profile[\"full_name\"],\n",
    "        name=user_profile[\"name\"],\n",
    "        user_profile_background=user_profile[\"user_profile_background\"],\n",
    "        triage_no=prompt_instructions[\"triage_rules\"][\"ignore\"],\n",
    "        triage_notify=prompt_instructions[\"triage_rules\"][\"notify\"],\n",
    "        triage_email=prompt_instructions[\"triage_rules\"][\"respond\"],\n",
    "        examples=None\n",
    "    )\n",
    "    user_prompt = triage_user_prompt.format(\n",
    "        author=author, \n",
    "        to=to, \n",
    "        subject=subject, \n",
    "        email_thread=email_thread\n",
    "    )\n",
    "    result = llm_structured_outut.invoke(\n",
    "        [\n",
    "            {\"role\": \"system\", \"content\": system_prompt},\n",
    "            {\"role\": \"user\", \"content\": user_prompt},\n",
    "        ]\n",
    "    )\n",
    "    if result.classification == \"respond\":\n",
    "        print(\"📧 Classification: RESPOND - This email requires a response\")\n",
    "        goto = \"response_agent\"\n",
    "        update = {\n",
    "            \"messages\": [\n",
    "                {\n",
    "                    \"role\": \"user\",\n",
    "                    \"content\": f\"Respond to the email {state['email_input']}\",\n",
    "                }\n",
    "            ]\n",
    "        }\n",
    "    elif result.classification == \"ignore\":\n",
    "        print(\"🚫 Classification: IGNORE - This email can be safely ignored\")\n",
    "        update = None\n",
    "        goto = END\n",
    "    elif result.classification == \"notify\":\n",
    "        # If real life, this would do something else\n",
    "        print(\"🔔 Classification: NOTIFY - This email contains important information\")\n",
    "        update = None\n",
    "        goto = END\n",
    "    else:\n",
    "        raise ValueError(f\"Invalid classification: {result.classification}\")\n",
    "    return Command(goto=goto, update=update)"
   ]
  },
  {
   "cell_type": "code",
   "execution_count": 21,
   "id": "8865eb9a",
   "metadata": {},
   "outputs": [],
   "source": [
    "email_agent = StateGraph(State)\n",
    "email_agent = email_agent.add_node(triage_router)\n",
    "email_agent = email_agent.add_node(\"response_agent\", agent)\n",
    "email_agent = email_agent.add_edge(START, \"triage_router\")\n",
    "email_agent = email_agent.compile()"
   ]
  },
  {
   "cell_type": "code",
   "execution_count": 22,
   "id": "1c808780",
   "metadata": {
    "collapsed": true,
    "jupyter": {
     "outputs_hidden": true
    }
   },
   "outputs": [
    {
     "data": {
      "image/png": "[encoded data removed]",
      "text/plain": [
       "<IPython.core.display.Image object>"
      ]
     },
     "metadata": {},
     "output_type": "display_data"
    }
   ],
   "source": [
    "# Show the agent\n",
    "display(Image(email_agent.get_graph(xray=True).draw_mermaid_png()))"
   ]
  },
  {
   "cell_type": "code",
   "execution_count": 23,
   "id": "c2beeff9",
   "metadata": {},
   "outputs": [],
   "source": [
    "email_input = {\n",
    "    \"author\": \"Marketing Team <marketing@amazingdeals.com>\",\n",
    "    \"to\": \"Nnaemeka Nwankwo <nnaemeka.nwankwo@company.com>\",\n",
    "    \"subject\": \"🔥 EXCLUSIVE OFFER: Limited Time Discount on Developer Tools! 🔥\",\n",
    "    \"email_thread\": \"\"\"Dear Valued Developer,\n",
    "\n",
    "Don't miss out on this INCREDIBLE opportunity! \n",
    "\n",
    "🚀 For a LIMITED TIME ONLY, get 80% OFF on our Premium Developer Suite! \n",
    "\n",
    "✨ FEATURES:\n",
    "- Revolutionary AI-powered code completion\n",
    "- Cloud-based development environment\n",
    "- 24/7 customer support\n",
    "- And much more!\n",
    "\n",
    "💰 Regular Price: $999/month\n",
    "🎉 YOUR SPECIAL PRICE: Just $199/month!\n",
    "\n",
    "🕒 Hurry! This offer expires in:\n",
    "24 HOURS ONLY!\n",
    "\n",
    "Click here to claim your discount: https://amazingdeals.com/special-offer\n",
    "\n",
    "Best regards,\n",
    "Marketing Team\n",
    "---\n",
    "To unsubscribe, click here\n",
    "\"\"\",\n",
    "}"
   ]
  },
  {
   "cell_type": "code",
   "execution_count": 24,
   "id": "f531df9b",
   "metadata": {},
   "outputs": [
    {
     "name": "stderr",
     "output_type": "stream",
     "text": [
      "Task triage_router with path ('__pregel_pull', 'triage_router') wrote to unknown channel branch:to:__end__, ignoring it.\n"
     ]
    },
    {
     "name": "stdout",
     "output_type": "stream",
     "text": [
      "🚫 Classification: IGNORE - This email can be safely ignored\n"
     ]
    }
   ],
   "source": [
    "response = email_agent.invoke({\"email_input\": email_input})"
   ]
  },
  {
   "cell_type": "code",
   "execution_count": 25,
   "id": "01753948",
   "metadata": {},
   "outputs": [],
   "source": [
    "email_input = {\n",
    "    \"author\": \"Lang Smith <lang.smith@company.com>\",\n",
    "    \"to\": \"Nnaemeka Nwankwo <nnaemeka.nwankwo@company.com>\",\n",
    "    \"subject\": \"Quick question about API documentation\",\n",
    "    \"email_thread\": \"\"\"Hi John,\n",
    "\n",
    "I was reviewing the API documentation for the new authentication service and noticed a few endpoints seem to be missing from the specs. Could you help clarify if this was intentional or if we should update the docs?\n",
    "\n",
    "Specifically, I'm looking at:\n",
    "- /auth/refresh\n",
    "- /auth/validate\n",
    "\n",
    "Thanks!\n",
    "Alice\"\"\",\n",
    "}"
   ]
  },
  {
   "cell_type": "code",
   "execution_count": 26,
   "id": "b7317489",
   "metadata": {},
   "outputs": [
    {
     "name": "stdout",
     "output_type": "stream",
     "text": [
      "📧 Classification: RESPOND - This email requires a response\n"
     ]
    }
   ],
   "source": [
    "response = email_agent.invoke({\"email_input\": email_input}, )"
   ]
  },
  {
   "cell_type": "code",
   "execution_count": 27,
   "id": "a43246dd",
   "metadata": {},
   "outputs": [
    {
     "name": "stdout",
     "output_type": "stream",
     "text": [
      "================================\u001b[1m Human Message \u001b[0m=================================\n",
      "\n",
      "Respond to the email {'author': 'Lang Smith <lang.smith@company.com>', 'to': 'Nnaemeka Nwankwo <nnaemeka.nwankwo@company.com>', 'subject': 'Quick question about API documentation', 'email_thread': \"Hi John,\\n\\nI was reviewing the API documentation for the new authentication service and noticed a few endpoints seem to be missing from the specs. Could you help clarify if this was intentional or if we should update the docs?\\n\\nSpecifically, I'm looking at:\\n- /auth/refresh\\n- /auth/validate\\n\\nThanks!\\nAlice\"}\n",
      "==================================\u001b[1m Ai Message \u001b[0m==================================\n",
      "Tool Calls:\n",
      "  write_email (call_8xoSUfihyg9nRGDWrMOo6jv7)\n",
      " Call ID: call_8xoSUfihyg9nRGDWrMOo6jv7\n",
      "  Args:\n",
      "    to: lang.smith@company.com\n",
      "    subject: Re: Quick question about API documentation\n",
      "    content: Hi Lang,\n",
      "\n",
      "Thank you for reaching out regarding the API documentation. The endpoints /auth/refresh and /auth/validate are indeed part of the new authentication service, but they were mistakenly omitted from the published documentation.\n",
      "\n",
      "We will get the documentation updated as soon as possible to include those endpoints. In the meantime, if you need any specific details about these endpoints, feel free to ask, and I'll be happy to provide you with the information.\n",
      "\n",
      "Best regards,\n",
      "Nnaemeka Nwankwo\n",
      "=================================\u001b[1m Tool Message \u001b[0m=================================\n",
      "Name: write_email\n",
      "\n",
      "Email sent to lang.smith@company.com with subject 'Re: Quick question about API documentation'\n",
      "==================================\u001b[1m Ai Message \u001b[0m==================================\n",
      "\n",
      "I have responded to Lang Smith's email, clarifying the situation regarding the missing API documentation. If you need further assistance, feel free to let me know!\n"
     ]
    }
   ],
   "source": [
    "for m in response[\"messages\"]:\n",
    "    m.pretty_print()"
   ]
  },
  {
   "cell_type": "code",
   "execution_count": 28,
   "id": "58adace6",
   "metadata": {},
   "outputs": [],
   "source": [
    "# I want to enable thread conversations and and also for a certain user enable user behavior across threads.\n",
    "from uuid import uuid4\n",
    "thread_id = str(uuid4()) # to enable threads\n",
    "user_id = \"emeka\" # to enable separate users\n",
    "\n",
    "\n",
    "# create store\n",
    "from langgraph.store.memory import InMemoryStore\n",
    "store = InMemoryStore(index={\"embed\": \"openai:text-embedding-3-small\"})\n"
   ]
  },
  {
   "cell_type": "code",
   "execution_count": 29,
   "id": "f83457d2",
   "metadata": {},
   "outputs": [],
   "source": [
    "data = {\n",
    "    \"email\": email_input,\n",
    "    \"label\": \"respond\"\n",
    "\n",
    "}\n",
    "\n",
    "store.put(namespace=(\"email_assistant\", user_id, \"example\"),\n",
    "          key = str(uuid4()),\n",
    "          value= data,\n",
    "          )\n"
   ]
  },
  {
   "cell_type": "code",
   "execution_count": 30,
   "id": "8a0ade76",
   "metadata": {},
   "outputs": [],
   "source": [
    "data = {\n",
    "    \"email\": {\n",
    "        \"author\": \"Sarah Chen <sarah.chen@company.com>\",\n",
    "        \"to\": \"Nnaemeka Nwankwo <nnaemeka.nwankwo@company.com>\",\n",
    "        \"subject\": \"Update: Backend API Changes Deployed to Staging\",\n",
    "        \"email_thread\": \"\"\"Hi John,\n",
    "    \n",
    "    Just wanted to let you know that I've deployed the new authentication endpoints we discussed to the staging environment. Key changes include:\n",
    "    \n",
    "    - Implemented JWT refresh token rotation\n",
    "    - Added rate limiting for login attempts\n",
    "    - Updated API documentation with new endpoints\n",
    "    \n",
    "    All tests are passing and the changes are ready for review. You can test it out at staging-api.company.com/auth/*\n",
    "    \n",
    "    No immediate action needed from your side - just keeping you in the loop since this affects the systems you're working on.\n",
    "    \n",
    "    Best regards,\n",
    "    Sarah\n",
    "    \"\"\",\n",
    "    },\n",
    "    \"label\": \"ignore\"\n",
    "}\n",
    "\n",
    "store.put(\n",
    "    (\"email_assistant\", user_id, \"examples\"),\n",
    "    str(uuid4()),\n",
    "    data\n",
    ")"
   ]
  },
  {
   "cell_type": "code",
   "execution_count": 31,
   "id": "4b354b93",
   "metadata": {},
   "outputs": [],
   "source": [
    "# Template for formating an example to put in prompt\n",
    "template = \"\"\"Email Subject: {subject}\n",
    "Email From: {from_email}\n",
    "Email To: {to_email}\n",
    "Email Content: \n",
    "```\n",
    "{content}\n",
    "```\n",
    "> Triage Result: {result}\"\"\"\n",
    "\n",
    "# Format list of few shots\n",
    "def format_few_shot_examples(examples):\n",
    "    strs = [\"Here are some previous examples:\"]\n",
    "    for eg in examples:\n",
    "        strs.append(\n",
    "            template.format(\n",
    "                subject=eg.value[\"email\"][\"subject\"],\n",
    "                to_email=eg.value[\"email\"][\"to\"],\n",
    "                from_email=eg.value[\"email\"][\"author\"],\n",
    "                content=eg.value[\"email\"][\"email_thread\"][:400],\n",
    "                result=eg.value[\"label\"],\n",
    "            )\n",
    "        )\n",
    "    return \"\\n\\n------------\\n\\n\".join(strs)"
   ]
  },
  {
   "cell_type": "code",
   "execution_count": 32,
   "id": "b51cf7c6",
   "metadata": {},
   "outputs": [],
   "source": [
    "email_data = {\n",
    "        \"author\": \"Sarah Chen <sarah.chen@company.com>\",\n",
    "        \"to\": \"Nnaemeka Nwankwo <nnaemeka.nwankwo@company.com>\",\n",
    "        \"subject\": \"Update: Backend API Changes Deployed to Staging\",\n",
    "        \"email_thread\": \"\"\"Hi John,\n",
    "    \n",
    "    Wanted to let you know that I've deployed the new authentication endpoints we discussed to the staging environment. Key changes include:\n",
    "    \n",
    "    - Implemented JWT refresh token rotation\n",
    "    - Added rate limiting for login attempts\n",
    "    - Updated API documentation with new endpoints\n",
    "    \n",
    "    All tests are passing and the changes are ready for review. You can test it out at staging-api.company.com/auth/*\n",
    "    \n",
    "    No immediate action needed from your side - just keeping you in the loop since this affects the systems you're working on.\n",
    "    \n",
    "    Best regards,\n",
    "    Sarah\n",
    "    \"\"\",\n",
    "    }\n",
    "results = store.search(\n",
    "    (\"email_assistant\", user_id, \"examples\"),\n",
    "    query=str({\"email\": email_data}),\n",
    "    limit=1)"
   ]
  },
  {
   "cell_type": "code",
   "execution_count": 33,
   "id": "490dc2c2",
   "metadata": {},
   "outputs": [
    {
     "data": {
      "text/plain": [
       "\"Here are some previous examples:\\n\\n------------\\n\\nEmail Subject: Update: Backend API Changes Deployed to Staging\\nEmail From: Sarah Chen <sarah.chen@company.com>\\nEmail To: Nnaemeka Nwankwo <nnaemeka.nwankwo@company.com>\\nEmail Content: \\n```\\nHi John,\\n\\n    Just wanted to let you know that I've deployed the new authentication endpoints we discussed to the staging environment. Key changes include:\\n\\n    - Implemented JWT refresh token rotation\\n    - Added rate limiting for login attempts\\n    - Updated API documentation with new endpoints\\n\\n    All tests are passing and the changes are ready for review. You can test it out at staging-api.co\\n```\\n> Triage Result: ignore\""
      ]
     },
     "execution_count": 33,
     "metadata": {},
     "output_type": "execute_result"
    }
   ],
   "source": [
    "format_few_shot_examples(results)"
   ]
  },
  {
   "cell_type": "code",
   "execution_count": 35,
   "id": "189babc3",
   "metadata": {},
   "outputs": [],
   "source": [
    "manage_memory_tool = create_manage_memory_tool(\n",
    "    namespace=(\n",
    "        \"email_assistant\", \n",
    "        \"{langgraph_user_id}\",\n",
    "        \"collection\"\n",
    "    )\n",
    ")\n",
    "search_memory_tool = create_search_memory_tool(\n",
    "    namespace=(\n",
    "        \"email_assistant\",\n",
    "        \"{langgraph_user_id}\",\n",
    "        \"collection\"\n",
    "    )\n",
    ")"
   ]
  },
  {
   "cell_type": "code",
   "execution_count": 36,
   "id": "3b2e5196",
   "metadata": {},
   "outputs": [],
   "source": [
    "def triage_router(state: State, config, store) -> Command[\n",
    "    Literal[\"response_agent\", \"__end__\"]\n",
    "]:\n",
    "    author = state['email_input']['author']\n",
    "    to = state['email_input']['to']\n",
    "    subject = state['email_input']['subject']\n",
    "    email_thread = state['email_input']['email_thread']\n",
    "\n",
    "    namespace = (\n",
    "        \"email_assistant\",\n",
    "        config['configurable']['langgraph_user_id'],\n",
    "        \"examples\"\n",
    "    )\n",
    "    examples = store.search(\n",
    "        namespace, \n",
    "        query=str({\"email\": state['email_input']})\n",
    "    ) \n",
    "    examples=format_few_shot_examples(examples)\n",
    "\n",
    "    langgraph_user_id = config['configurable']['langgraph_user_id']\n",
    "    namespace = (langgraph_user_id, )\n",
    "\n",
    "    result = store.get(namespace, \"triage_ignore\")\n",
    "    if result is None:\n",
    "        store.put(\n",
    "            namespace, \n",
    "            \"triage_ignore\", \n",
    "            {\"prompt\": prompt_instructions[\"triage_rules\"][\"ignore\"]}\n",
    "        )\n",
    "        ignore_prompt = prompt_instructions[\"triage_rules\"][\"ignore\"]\n",
    "    else:\n",
    "        ignore_prompt = result.value['prompt']\n",
    "\n",
    "    result = store.get(namespace, \"triage_notify\")\n",
    "    if result is None:\n",
    "        store.put(\n",
    "            namespace, \n",
    "            \"triage_notify\", \n",
    "            {\"prompt\": prompt_instructions[\"triage_rules\"][\"notify\"]}\n",
    "        )\n",
    "        notify_prompt = prompt_instructions[\"triage_rules\"][\"notify\"]\n",
    "    else:\n",
    "        notify_prompt = result.value['prompt']\n",
    "\n",
    "    result = store.get(namespace, \"triage_respond\")\n",
    "    if result is None:\n",
    "        store.put(\n",
    "            namespace, \n",
    "            \"triage_respond\", \n",
    "            {\"prompt\": prompt_instructions[\"triage_rules\"][\"respond\"]}\n",
    "        )\n",
    "        respond_prompt = prompt_instructions[\"triage_rules\"][\"respond\"]\n",
    "    else:\n",
    "        respond_prompt = result.value['prompt']\n",
    "    \n",
    "    system_prompt = triage_system_prompt.format(\n",
    "        full_name=user_profile[\"full_name\"],\n",
    "        name=user_profile[\"name\"],\n",
    "        user_profile_background=user_profile[\"user_profile_background\"],\n",
    "        triage_no=ignore_prompt,\n",
    "        triage_notify=notify_prompt,\n",
    "        triage_email=respond_prompt,\n",
    "        examples=examples\n",
    "    )\n",
    "    user_prompt = triage_user_prompt.format(\n",
    "        author=author, \n",
    "        to=to, \n",
    "        subject=subject, \n",
    "        email_thread=email_thread\n",
    "    )\n",
    "    result = llm_structured_outut.invoke(\n",
    "        [\n",
    "            {\"role\": \"system\", \"content\": system_prompt},\n",
    "            {\"role\": \"user\", \"content\": user_prompt},\n",
    "        ]\n",
    "    )\n",
    "    if result.classification == \"respond\":\n",
    "        print(\"📧 Classification: RESPOND - This email requires a response\")\n",
    "        goto = \"response_agent\"\n",
    "        update = {\n",
    "            \"messages\": [\n",
    "                {\n",
    "                    \"role\": \"user\",\n",
    "                    \"content\": f\"Respond to the email {state['email_input']}\",\n",
    "                }\n",
    "            ]\n",
    "        }\n",
    "    elif result.classification == \"ignore\":\n",
    "        print(\"🚫 Classification: IGNORE - This email can be safely ignored\")\n",
    "        update = None\n",
    "        goto = END\n",
    "    elif result.classification == \"notify\":\n",
    "        # If real life, this would do something else\n",
    "        print(\"🔔 Classification: NOTIFY - This email contains important information\")\n",
    "        update = None\n",
    "        goto = END\n",
    "    else:\n",
    "        raise ValueError(f\"Invalid classification: {result.classification}\")\n",
    "    return Command(goto=goto, update=update)"
   ]
  },
  {
   "cell_type": "code",
   "execution_count": 37,
   "id": "f2fc0efd",
   "metadata": {},
   "outputs": [],
   "source": [
    "agent_system_prompt_memory = \"\"\"\n",
    "< Role >\n",
    "You are {full_name}'s executive assistant. You are a top-notch executive assistant who cares about {name} performing as well as possible.\n",
    "</ Role >\n",
    "\n",
    "< Tools >\n",
    "You have access to the following tools to help manage {name}'s communications and schedule:\n",
    "\n",
    "1. write_email(to, subject, content) - Send emails to specified recipients\n",
    "2. schedule_meeting(attendees, subject, duration_minutes, preferred_day) - Schedule calendar meetings\n",
    "3. check_calendar_availability(day) - Check available time slots for a given day\n",
    "4. manage_memory - Store any relevant information about contacts, actions, discussion, etc. in memory for future reference\n",
    "5. search_memory - Search for any relevant information that may have been stored in memory\n",
    "</ Tools >\n",
    "\n",
    "< Instructions >\n",
    "{instructions}\n",
    "</ Instructions >\n",
    "\"\"\""
   ]
  },
  {
   "cell_type": "code",
   "execution_count": 38,
   "id": "461347ce",
   "metadata": {},
   "outputs": [],
   "source": [
    "def create_prompt(state, config, store):\n",
    "    langgraph_user_id = config['configurable']['langgraph_user_id']\n",
    "    namespace = (langgraph_user_id, )\n",
    "    result = store.get(namespace, \"agent_instructions\")\n",
    "    if result is None:\n",
    "        store.put(\n",
    "            namespace, \n",
    "            \"agent_instructions\", \n",
    "            {\"prompt\": prompt_instructions[\"agent_instructions\"]}\n",
    "        )\n",
    "        prompt = prompt_instructions[\"agent_instructions\"]\n",
    "    else:\n",
    "        prompt = result.value['prompt']\n",
    "    \n",
    "    return [\n",
    "        {\n",
    "            \"role\": \"system\", \n",
    "            \"content\": agent_system_prompt_memory.format(\n",
    "                instructions=prompt, \n",
    "                **user_profile\n",
    "            )\n",
    "        }\n",
    "    ] + state['messages']"
   ]
  },
  {
   "cell_type": "code",
   "execution_count": 39,
   "id": "5929b487",
   "metadata": {},
   "outputs": [],
   "source": [
    "tools = [\n",
    "    write_email,\n",
    "    schedule_meeting,\n",
    "    check_calendar_availability,\n",
    "    search_memory_tool,\n",
    "    manage_memory_tool,\n",
    "]\n",
    "\n",
    "agent = create_react_agent(\n",
    "    \"openai:gpt-4o\",\n",
    "    tools,\n",
    "    prompt=create_prompt,\n",
    "    store=store,\n",
    ")"
   ]
  },
  {
   "cell_type": "code",
   "execution_count": 40,
   "id": "fd431379",
   "metadata": {},
   "outputs": [],
   "source": [
    "from langgraph.checkpoint.memory import InMemorySaver\n",
    "# We need this because we want to enable threads (conversations)\n",
    "checkpointer = InMemorySaver()\n"
   ]
  },
  {
   "cell_type": "code",
   "execution_count": 41,
   "id": "1b3631fb",
   "metadata": {},
   "outputs": [],
   "source": [
    "email_agent = StateGraph(State)\n",
    "email_agent = email_agent.add_node(triage_router)\n",
    "email_agent = email_agent.add_node(\"response_agent\", agent)\n",
    "email_agent = email_agent.add_edge(START, \"triage_router\")\n",
    "email_agent = email_agent.compile(checkpointer, store=store)"
   ]
  },
  {
   "cell_type": "code",
   "execution_count": 42,
   "id": "1fc250f9",
   "metadata": {},
   "outputs": [],
   "source": [
    "config = {\n",
    "    \"configurable\": {\"thread_id\": thread_id, \"langgraph_user_id\": user_id}\n",
    "}"
   ]
  },
  {
   "cell_type": "code",
   "execution_count": 43,
   "id": "7ec7ed85",
   "metadata": {},
   "outputs": [],
   "source": [
    "email_input = {\n",
    "    \"author\": \"Alice Jones <alice.jones@bar.com>\",\n",
    "    \"to\": \"Nnaemeka Nwankwo <nnaemeka.nwankwo@company.com>\",\n",
    "    \"subject\": \"Quick question about API documentation\",\n",
    "    \"email_thread\": \"\"\"Hi John,\n",
    "\n",
    "Urgent issue - your service is down. Is there a reason why\"\"\",\n",
    "}"
   ]
  },
  {
   "cell_type": "code",
   "execution_count": 44,
   "id": "d7ac963d",
   "metadata": {},
   "outputs": [
    {
     "name": "stdout",
     "output_type": "stream",
     "text": [
      "📧 Classification: RESPOND - This email requires a response\n"
     ]
    }
   ],
   "source": [
    "response = email_agent.invoke(\n",
    "    {\"email_input\": email_input},\n",
    "    config=config\n",
    ")"
   ]
  },
  {
   "cell_type": "code",
   "execution_count": 45,
   "id": "429232b9",
   "metadata": {},
   "outputs": [
    {
     "name": "stdout",
     "output_type": "stream",
     "text": [
      "================================\u001b[1m Human Message \u001b[0m=================================\n",
      "\n",
      "Respond to the email {'author': 'Alice Jones <alice.jones@bar.com>', 'to': 'Nnaemeka Nwankwo <nnaemeka.nwankwo@company.com>', 'subject': 'Quick question about API documentation', 'email_thread': 'Hi John,\\n\\nUrgent issue - your service is down. Is there a reason why'}\n",
      "==================================\u001b[1m Ai Message \u001b[0m==================================\n",
      "Tool Calls:\n",
      "  search_memory (call_8abRqXU1gOy9sxl6IH8ogh3S)\n",
      " Call ID: call_8abRqXU1gOy9sxl6IH8ogh3S\n",
      "  Args:\n",
      "    query: Alice Jones\n",
      "    limit: 5\n",
      "=================================\u001b[1m Tool Message \u001b[0m=================================\n",
      "Name: search_memory\n",
      "\n",
      "[]\n",
      "==================================\u001b[1m Ai Message \u001b[0m==================================\n",
      "Tool Calls:\n",
      "  write_email (call_rjfY65Ipn8zH5QYBT6OqlvEL)\n",
      " Call ID: call_rjfY65Ipn8zH5QYBT6OqlvEL\n",
      "  Args:\n",
      "    to: alice.jones@bar.com\n",
      "    subject: Re: Quick question about API documentation\n",
      "    content: Hi Alice,\n",
      "\n",
      "Thank you for reaching out. I apologize for the inconvenience caused by the service outage. We're aware of the issue and are currently working on resolving it as quickly as possible. I'll keep you updated on the progress.\n",
      "\n",
      "Best regards,\n",
      "\n",
      "Nnaemeka Nwankwo\n",
      "=================================\u001b[1m Tool Message \u001b[0m=================================\n",
      "Name: write_email\n",
      "\n",
      "Email sent to alice.jones@bar.com with subject 'Re: Quick question about API documentation'\n",
      "==================================\u001b[1m Ai Message \u001b[0m==================================\n",
      "\n",
      "I have responded to Alice Jones' email, addressing the urgent issue with the service outage and assuring her that the matter is being resolved. If there's anything else you'd like to do, please let me know!\n"
     ]
    }
   ],
   "source": [
    "for m in response[\"messages\"]:\n",
    "    m.pretty_print()"
   ]
  },
  {
   "cell_type": "code",
   "execution_count": 47,
   "id": "e90f6db4",
   "metadata": {},
   "outputs": [
    {
     "data": {
      "text/plain": [
       "\"Use these tools when appropriate to help manage John's tasks efficiently.\""
      ]
     },
     "execution_count": 47,
     "metadata": {},
     "output_type": "execute_result"
    }
   ],
   "source": [
    "store.get((\"emeka\",), \"agent_instructions\" ).value['prompt']"
   ]
  },
  {
   "cell_type": "code",
   "execution_count": 48,
   "id": "c6193989",
   "metadata": {},
   "outputs": [
    {
     "data": {
      "text/plain": [
       "'Direct questions from team members, meeting requests, critical bug reports'"
      ]
     },
     "execution_count": 48,
     "metadata": {},
     "output_type": "execute_result"
    }
   ],
   "source": [
    "store.get((\"emeka\",), \"triage_respond\").value['prompt']"
   ]
  },
  {
   "cell_type": "code",
   "execution_count": 49,
   "id": "a251cc39",
   "metadata": {},
   "outputs": [
    {
     "data": {
      "text/plain": [
       "'Marketing newsletters, spam emails, mass company announcements'"
      ]
     },
     "execution_count": 49,
     "metadata": {},
     "output_type": "execute_result"
    }
   ],
   "source": [
    "store.get((\"emeka\",), \"triage_ignore\").value['prompt']"
   ]
  },
  {
   "cell_type": "code",
   "execution_count": 50,
   "id": "714497f8",
   "metadata": {},
   "outputs": [
    {
     "data": {
      "text/plain": [
       "'Team member out sick, build system notifications, project status updates'"
      ]
     },
     "execution_count": 50,
     "metadata": {},
     "output_type": "execute_result"
    }
   ],
   "source": [
    "store.get((\"emeka\",), \"triage_notify\").value['prompt']"
   ]
  },
  {
   "cell_type": "code",
   "execution_count": 51,
   "id": "0ebfeed3",
   "metadata": {},
   "outputs": [],
   "source": [
    "from langmem import create_multi_prompt_optimizer"
   ]
  },
  {
   "cell_type": "code",
   "execution_count": 52,
   "id": "1eeb9df0",
   "metadata": {},
   "outputs": [],
   "source": [
    "conversations = [\n",
    "    (\n",
    "        response['messages'],\n",
    "        \"Always sign your emails `Nnaemeka Nwankwo\\nMachine learning Engineer`\"\n",
    "    )\n",
    "]"
   ]
  },
  {
   "cell_type": "code",
   "execution_count": 59,
   "id": "d6aa5b42-15fc-4be3-a79c-b5d1ebb3c5cb",
   "metadata": {},
   "outputs": [],
   "source": [
    "optimizer = create_multi_prompt_optimizer(\n",
    "    \"openai:gpt-4o\",\n",
    "    kind=\"prompt_memory\",\n",
    ")"
   ]
  },
  {
   "cell_type": "code",
   "execution_count": 56,
   "id": "e9e6a438-19fd-4b65-b268-361587c79444",
   "metadata": {},
   "outputs": [],
   "source": [
    "prompts = [\n",
    "    {\n",
    "        \"name\": \"main_agent\",\n",
    "        \"prompt\": store.get((\"emeka\",), \"agent_instructions\").value['prompt'],\n",
    "        \"update_instructions\": \"keep the instructions short and to the point\",\n",
    "        \"when_to_update\": \"Update this prompt whenever there is feedback on how the agent should do only these two things 1. write emails 2.schedule events\"\n",
    "        \n",
    "    },\n",
    "    {\n",
    "        \"name\": \"triage-ignore\", \n",
    "        \"prompt\": store.get((\"emeka\",), \"triage_ignore\").value['prompt'],\n",
    "        \"update_instructions\": \"keep the instructions short and to the point\",\n",
    "        \"when_to_update\": \"Update this prompt whenever there is feedback on which emails should be ignored\"\n",
    "\n",
    "    },\n",
    "    {\n",
    "        \"name\": \"triage-notify\", \n",
    "        \"prompt\": store.get((\"emeka\",), \"triage_notify\").value['prompt'],\n",
    "        \"update_instructions\": \"keep the instructions short and to the point\",\n",
    "        \"when_to_update\": \"Update this prompt whenever there is feedback on which emails the user should be notified of\"\n",
    "\n",
    "    },\n",
    "    {\n",
    "        \"name\": \"triage-respond\", \n",
    "        \"prompt\": store.get((\"emeka\",), \"triage_respond\").value['prompt'],\n",
    "        \"update_instructions\": \"keep the instructions short and to the point\",\n",
    "        \"when_to_update\": \"Update this prompt whenever there is feedback on which emails should be responded to\"\n",
    "\n",
    "    },\n",
    "]"
   ]
  },
  {
   "cell_type": "code",
   "execution_count": 60,
   "id": "b17f4af8-6c1d-4700-8962-c158cea1b268",
   "metadata": {},
   "outputs": [
    {
     "name": "stdout",
     "output_type": "stream",
     "text": [
      "[{'name': 'main_agent', 'prompt': \"Use these tools when appropriate to help manage John's tasks efficiently. Always sign emails with 'John Doe'.\", 'update_instructions': 'keep the instructions short and to the point', 'when_to_update': 'Update this prompt whenever there is feedback on how the agent should write emails or schedule events'}, {'name': 'triage-ignore', 'prompt': 'Marketing newsletters, spam emails, mass company announcements', 'update_instructions': 'keep the instructions short and to the point', 'when_to_update': 'Update this prompt whenever there is feedback on which emails should be ignored'}, {'name': 'triage-notify', 'prompt': 'Team member out sick, build system notifications, project status updates', 'update_instructions': 'keep the instructions short and to the point', 'when_to_update': 'Update this prompt whenever there is feedback on which emails the user should be notified of'}, {'name': 'triage-respond', 'prompt': 'Direct questions from team members, meeting requests, critical bug reports', 'update_instructions': 'keep the instructions short and to the point', 'when_to_update': 'Update this prompt whenever there is feedback on which emails should be responded to'}]\n"
     ]
    }
   ],
   "source": [
    "updated_mem = optimizer.invoke(\n",
    "    {\"trajectories\": conversations, \"prompts\": prompts}\n",
    ")\n",
    "\n",
    "print(updated_mem)"
   ]
  },
  {
   "cell_type": "code",
   "execution_count": 61,
   "id": "4c1e4367-d589-47ac-b7d0-f824e6f88766",
   "metadata": {},
   "outputs": [
    {
     "name": "stdout",
     "output_type": "stream",
     "text": [
      "[\n",
      "    {\n",
      "        \"name\": \"main_agent\",\n",
      "        \"prompt\": \"Use these tools when appropriate to help manage John's tasks efficiently. Always sign emails with 'John Doe'.\",\n",
      "        \"update_instructions\": \"keep the instructions short and to the point\",\n",
      "        \"when_to_update\": \"Update this prompt whenever there is feedback on how the agent should write emails or schedule events\"\n",
      "    },\n",
      "    {\n",
      "        \"name\": \"triage-ignore\",\n",
      "        \"prompt\": \"Marketing newsletters, spam emails, mass company announcements\",\n",
      "        \"update_instructions\": \"keep the instructions short and to the point\",\n",
      "        \"when_to_update\": \"Update this prompt whenever there is feedback on which emails should be ignored\"\n",
      "    },\n",
      "    {\n",
      "        \"name\": \"triage-notify\",\n",
      "        \"prompt\": \"Team member out sick, build system notifications, project status updates\",\n",
      "        \"update_instructions\": \"keep the instructions short and to the point\",\n",
      "        \"when_to_update\": \"Update this prompt whenever there is feedback on which emails the user should be notified of\"\n",
      "    },\n",
      "    {\n",
      "        \"name\": \"triage-respond\",\n",
      "        \"prompt\": \"Direct questions from team members, meeting requests, critical bug reports\",\n",
      "        \"update_instructions\": \"keep the instructions short and to the point\",\n",
      "        \"when_to_update\": \"Update this prompt whenever there is feedback on which emails should be responded to\"\n",
      "    }\n",
      "]\n"
     ]
    }
   ],
   "source": [
    "import json\n",
    "print(json.dumps(updated_mem, indent=4))"
   ]
  },
  {
   "cell_type": "code",
   "execution_count": 69,
   "id": "272c972c-249e-447b-ac3b-708acce4edf6",
   "metadata": {},
   "outputs": [],
   "source": [
    "# lets update the instructions in store\n",
    "def update_mem_instructions(user_id: str, updated_mem, prompts, store):\n",
    "    for i, updated_prompt in enumerate(updated_mem):\n",
    "        old_prompt = prompts[i]\n",
    "        if updated_prompt['prompt'] != old_prompt['prompt']:\n",
    "            name = old_prompt['name']\n",
    "            print(f\"updated {name}\")\n",
    "            if name == \"main_agent\":\n",
    "                store.put(\n",
    "                    (user_id,),\n",
    "                    \"agent_instructions\",\n",
    "                    {\"prompt\":updated_prompt['prompt']}\n",
    "                )\n",
    "                print(f\"Encountered {name}, implement the remaining stores!\")\n",
    "            elif name == \"triage-ignore\":\n",
    "                store.put(\n",
    "                    (user_id,),\n",
    "                    \"triage_ignore\",\n",
    "                    {\"prompt\":updated_prompt['prompt']}\n",
    "                )\n",
    "                print(f\"Encountered {name}, implement the remaining stores!\")\n",
    "            elif name == \"triage-notify\":\n",
    "                store.put(\n",
    "                    (user_id,),\n",
    "                    \"triage_notify\",\n",
    "                    {\"prompt\":updated_prompt['prompt']}\n",
    "                )\n",
    "                print(f\"Encountered {name}, implement the remaining stores!\")\n",
    "            elif name == \"triage-respond\":\n",
    "                store.put(\n",
    "                    (user_id,),\n",
    "                    \"triage_respond\",\n",
    "                    {\"prompt\":updated_prompt['prompt']}\n",
    "                )\n",
    "                print(f\"Encountered {name}, implement the remaining stores!\")\n",
    "            else:\n",
    "                #raise ValueError\n",
    "                print(f\"Encountered No update!\")"
   ]
  },
  {
   "cell_type": "code",
   "execution_count": 68,
   "id": "886eddc0-59f0-4476-a0f1-59b248764057",
   "metadata": {},
   "outputs": [
    {
     "name": "stdout",
     "output_type": "stream",
     "text": [
      "updated main_agent\n",
      "Encountered main_agent, implement the remaining stores!\n"
     ]
    }
   ],
   "source": [
    "update_mem_instructions(\"emeka\", updated_mem, prompts, store)"
   ]
  },
  {
   "cell_type": "code",
   "execution_count": 70,
   "id": "8e570cbe-e82e-4bf4-b63a-00314211da59",
   "metadata": {},
   "outputs": [
    {
     "name": "stdout",
     "output_type": "stream",
     "text": [
      "📧 Classification: RESPOND - This email requires a response\n"
     ]
    }
   ],
   "source": [
    "response = email_agent.invoke(\n",
    "    {\"email_input\": email_input},\n",
    "    config=config\n",
    ")"
   ]
  },
  {
   "cell_type": "code",
   "execution_count": 84,
   "id": "d5c7effe-756e-4f43-b8c8-1b9ab2104d04",
   "metadata": {},
   "outputs": [
    {
     "data": {
      "text/plain": [
       "[HumanMessage(content=\"Respond to the email {'author': 'Alice Jones <alice.jones@bar.com>', 'to': 'Nnaemeka Nwankwo <nnaemeka.nwankwo@company.com>', 'subject': 'Quick question about API documentation', 'email_thread': 'Hi John,\\\\n\\\\nUrgent issue - your service is down. Is there a reason why'}\", additional_kwargs={}, response_metadata={}, id='e6f0347b-24c8-4079-8438-ba05eca2d006'),\n",
       " AIMessage(content='', additional_kwargs={'tool_calls': [{'id': 'call_8abRqXU1gOy9sxl6IH8ogh3S', 'function': {'arguments': '{\"query\":\"Alice Jones\",\"limit\":5}', 'name': 'search_memory'}, 'type': 'function'}], 'refusal': None}, response_metadata={'token_usage': {'completion_tokens': 19, 'prompt_tokens': 585, 'total_tokens': 604, 'completion_tokens_details': {'accepted_prediction_tokens': 0, 'audio_tokens': 0, 'reasoning_tokens': 0, 'rejected_prediction_tokens': 0}, 'prompt_tokens_details': {'audio_tokens': 0, 'cached_tokens': 0}}, 'model_name': 'gpt-4o-2024-08-06', 'system_fingerprint': 'fp_07871e2ad8', 'id': 'chatcmpl-BulhVNPSf0j6ZJa7vUTPPjUbu3lZL', 'service_tier': 'default', 'finish_reason': 'tool_calls', 'logprobs': None}, id='run--30b006ce-fb11-4154-b200-cf82370eb06c-0', tool_calls=[{'name': 'search_memory', 'args': {'query': 'Alice Jones', 'limit': 5}, 'id': 'call_8abRqXU1gOy9sxl6IH8ogh3S', 'type': 'tool_call'}], usage_metadata={'input_tokens': 585, 'output_tokens': 19, 'total_tokens': 604, 'input_token_details': {'audio': 0, 'cache_read': 0}, 'output_token_details': {'audio': 0, 'reasoning': 0}}),\n",
       " ToolMessage(content='[]', name='search_memory', id='eeb5ee42-6203-4ebb-895a-04d695ec3a80', tool_call_id='call_8abRqXU1gOy9sxl6IH8ogh3S'),\n",
       " AIMessage(content='', additional_kwargs={'tool_calls': [{'id': 'call_rjfY65Ipn8zH5QYBT6OqlvEL', 'function': {'arguments': '{\"to\":\"alice.jones@bar.com\",\"subject\":\"Re: Quick question about API documentation\",\"content\":\"Hi Alice,\\\\n\\\\nThank you for reaching out. I apologize for the inconvenience caused by the service outage. We\\'re aware of the issue and are currently working on resolving it as quickly as possible. I\\'ll keep you updated on the progress.\\\\n\\\\nBest regards,\\\\n\\\\nNnaemeka Nwankwo\"}', 'name': 'write_email'}, 'type': 'function'}], 'refusal': None}, response_metadata={'token_usage': {'completion_tokens': 94, 'prompt_tokens': 613, 'total_tokens': 707, 'completion_tokens_details': {'accepted_prediction_tokens': 0, 'audio_tokens': 0, 'reasoning_tokens': 0, 'rejected_prediction_tokens': 0}, 'prompt_tokens_details': {'audio_tokens': 0, 'cached_tokens': 0}}, 'model_name': 'gpt-4o-2024-08-06', 'system_fingerprint': 'fp_07871e2ad8', 'id': 'chatcmpl-BulhYvX8sIOAs0LJG6eZOG86YvlTI', 'service_tier': 'default', 'finish_reason': 'tool_calls', 'logprobs': None}, id='run--516af894-912c-47b7-acfe-6aafb4185977-0', tool_calls=[{'name': 'write_email', 'args': {'to': 'alice.jones@bar.com', 'subject': 'Re: Quick question about API documentation', 'content': \"Hi Alice,\\n\\nThank you for reaching out. I apologize for the inconvenience caused by the service outage. We're aware of the issue and are currently working on resolving it as quickly as possible. I'll keep you updated on the progress.\\n\\nBest regards,\\n\\nNnaemeka Nwankwo\"}, 'id': 'call_rjfY65Ipn8zH5QYBT6OqlvEL', 'type': 'tool_call'}], usage_metadata={'input_tokens': 613, 'output_tokens': 94, 'total_tokens': 707, 'input_token_details': {'audio': 0, 'cache_read': 0}, 'output_token_details': {'audio': 0, 'reasoning': 0}}),\n",
       " ToolMessage(content=\"Email sent to alice.jones@bar.com with subject 'Re: Quick question about API documentation'\", name='write_email', id='0e927b50-0ad7-4825-8e88-bf45d61f926c', tool_call_id='call_rjfY65Ipn8zH5QYBT6OqlvEL'),\n",
       " AIMessage(content=\"I have responded to Alice Jones' email, addressing the urgent issue with the service outage and assuring her that the matter is being resolved. If there's anything else you'd like to do, please let me know!\", additional_kwargs={'refusal': None}, response_metadata={'token_usage': {'completion_tokens': 42, 'prompt_tokens': 735, 'total_tokens': 777, 'completion_tokens_details': {'accepted_prediction_tokens': 0, 'audio_tokens': 0, 'reasoning_tokens': 0, 'rejected_prediction_tokens': 0}, 'prompt_tokens_details': {'audio_tokens': 0, 'cached_tokens': 0}}, 'model_name': 'gpt-4o-2024-08-06', 'system_fingerprint': 'fp_07871e2ad8', 'id': 'chatcmpl-Bulha3fll5AO2FbQkmFMAK3WZEzfO', 'service_tier': 'default', 'finish_reason': 'stop', 'logprobs': None}, id='run--03d52ea1-eccb-4c4d-a3a3-585614cd0b75-0', usage_metadata={'input_tokens': 735, 'output_tokens': 42, 'total_tokens': 777, 'input_token_details': {'audio': 0, 'cache_read': 0}, 'output_token_details': {'audio': 0, 'reasoning': 0}}),\n",
       " HumanMessage(content=\"Respond to the email {'author': 'Alice Jones <alice.jones@bar.com>', 'to': 'Nnaemeka Nwankwo <nnaemeka.nwankwo@company.com>', 'subject': 'Quick question about API documentation', 'email_thread': 'Hi John,\\\\n\\\\nUrgent issue - your service is down. Is there a reason why'}\", additional_kwargs={}, response_metadata={}, id='4a13e185-8b67-43ed-a3b9-700a823536dd'),\n",
       " AIMessage(content=\"I have already responded to Alice Jones' email regarding the urgent issue. If you need further actions or another response, please let me know!\", additional_kwargs={'refusal': None}, response_metadata={'token_usage': {'completion_tokens': 29, 'prompt_tokens': 870, 'total_tokens': 899, 'completion_tokens_details': {'accepted_prediction_tokens': 0, 'audio_tokens': 0, 'reasoning_tokens': 0, 'rejected_prediction_tokens': 0}, 'prompt_tokens_details': {'audio_tokens': 0, 'cached_tokens': 0}}, 'model_name': 'gpt-4o-2024-08-06', 'system_fingerprint': 'fp_07871e2ad8', 'id': 'chatcmpl-BumGZE4AueRYj2Lk8tiAc3agdtH01', 'service_tier': 'default', 'finish_reason': 'stop', 'logprobs': None}, id='run--5c0817ed-f7a9-4df1-829b-7caddccf58a9-0', usage_metadata={'input_tokens': 870, 'output_tokens': 29, 'total_tokens': 899, 'input_token_details': {'audio': 0, 'cache_read': 0}, 'output_token_details': {'audio': 0, 'reasoning': 0}})]"
      ]
     },
     "execution_count": 84,
     "metadata": {},
     "output_type": "execute_result"
    }
   ],
   "source": [
    "response[\"messages\"]#[-1].pretty_print()"
   ]
  },
  {
   "cell_type": "code",
   "execution_count": 72,
   "id": "f81c6ba6-c934-4815-a36c-dbe8d5aeee97",
   "metadata": {},
   "outputs": [],
   "source": [
    "conversations = [\n",
    "    (\n",
    "        response['messages'],\n",
    "        \"Ignore any emails from Alice Jones\"\n",
    "    )\n",
    "]"
   ]
  },
  {
   "cell_type": "code",
   "execution_count": 73,
   "id": "db70d222-f7d4-462a-9a6c-cf0e6715382f",
   "metadata": {},
   "outputs": [
    {
     "name": "stdout",
     "output_type": "stream",
     "text": [
      "[{'name': 'main_agent', 'prompt': \"Use these tools when appropriate to help manage John's tasks efficiently. Please ignore any emails from Alice Jones.\", 'update_instructions': 'keep the instructions short and to the point', 'when_to_update': 'Update this prompt whenever there is feedback on how the agent should write emails or schedule events'}, {'name': 'triage-ignore', 'prompt': 'Marketing newsletters, spam emails, mass company announcements. Ignore any emails from Alice Jones.', 'update_instructions': 'keep the instructions short and to the point', 'when_to_update': 'Update this prompt whenever there is feedback on which emails should be ignored'}, {'name': 'triage-notify', 'prompt': 'Team member out sick, build system notifications, project status updates', 'update_instructions': 'keep the instructions short and to the point', 'when_to_update': 'Update this prompt whenever there is feedback on which emails the user should be notified of'}, {'name': 'triage-respond', 'prompt': 'Direct questions from team members, meeting requests, critical bug reports', 'update_instructions': 'keep the instructions short and to the point', 'when_to_update': 'Update this prompt whenever there is feedback on which emails should be responded to'}]\n"
     ]
    }
   ],
   "source": [
    "updated_mem = optimizer.invoke(\n",
    "    {\"trajectories\": conversations, \"prompts\": prompts}\n",
    ")\n",
    "\n",
    "print(updated_mem)"
   ]
  },
  {
   "cell_type": "code",
   "execution_count": 74,
   "id": "ce074170-c4a1-438d-866c-b72a8d1a7469",
   "metadata": {},
   "outputs": [
    {
     "name": "stdout",
     "output_type": "stream",
     "text": [
      "[\n",
      "    {\n",
      "        \"name\": \"main_agent\",\n",
      "        \"prompt\": \"Use these tools when appropriate to help manage John's tasks efficiently. Please ignore any emails from Alice Jones.\",\n",
      "        \"update_instructions\": \"keep the instructions short and to the point\",\n",
      "        \"when_to_update\": \"Update this prompt whenever there is feedback on how the agent should write emails or schedule events\"\n",
      "    },\n",
      "    {\n",
      "        \"name\": \"triage-ignore\",\n",
      "        \"prompt\": \"Marketing newsletters, spam emails, mass company announcements. Ignore any emails from Alice Jones.\",\n",
      "        \"update_instructions\": \"keep the instructions short and to the point\",\n",
      "        \"when_to_update\": \"Update this prompt whenever there is feedback on which emails should be ignored\"\n",
      "    },\n",
      "    {\n",
      "        \"name\": \"triage-notify\",\n",
      "        \"prompt\": \"Team member out sick, build system notifications, project status updates\",\n",
      "        \"update_instructions\": \"keep the instructions short and to the point\",\n",
      "        \"when_to_update\": \"Update this prompt whenever there is feedback on which emails the user should be notified of\"\n",
      "    },\n",
      "    {\n",
      "        \"name\": \"triage-respond\",\n",
      "        \"prompt\": \"Direct questions from team members, meeting requests, critical bug reports\",\n",
      "        \"update_instructions\": \"keep the instructions short and to the point\",\n",
      "        \"when_to_update\": \"Update this prompt whenever there is feedback on which emails should be responded to\"\n",
      "    }\n",
      "]\n"
     ]
    }
   ],
   "source": [
    "\n",
    "print(json.dumps(updated_mem, indent=4))"
   ]
  },
  {
   "cell_type": "code",
   "execution_count": 75,
   "id": "285b97af-953a-4b44-957b-cab3835286b7",
   "metadata": {},
   "outputs": [
    {
     "name": "stdout",
     "output_type": "stream",
     "text": [
      "updated main_agent\n",
      "Encountered main_agent, implement the remaining stores!\n",
      "updated triage-ignore\n",
      "Encountered triage-ignore, implement the remaining stores!\n"
     ]
    }
   ],
   "source": [
    "update_mem_instructions(\"emeka\", updated_mem, prompts, store)"
   ]
  },
  {
   "cell_type": "code",
   "execution_count": 85,
   "id": "fff65f62-c538-46d9-8f95-78dc4487c21c",
   "metadata": {},
   "outputs": [
    {
     "name": "stderr",
     "output_type": "stream",
     "text": [
      "Task triage_router with path ('__pregel_pull', 'triage_router') wrote to unknown channel branch:to:__end__, ignoring it.\n"
     ]
    },
    {
     "name": "stdout",
     "output_type": "stream",
     "text": [
      "🚫 Classification: IGNORE - This email can be safely ignored\n"
     ]
    }
   ],
   "source": [
    "response = email_agent.invoke(\n",
    "    {\"email_input\": email_input},\n",
    "    config=config\n",
    ")"
   ]
  },
  {
   "cell_type": "code",
   "execution_count": 86,
   "id": "6d7fc7e0-3de9-40ef-a9c9-4c9e2aa92e4d",
   "metadata": {},
   "outputs": [
    {
     "data": {
      "text/plain": [
       "'Marketing newsletters, spam emails, mass company announcements. Ignore any emails from Alice Jones.'"
      ]
     },
     "execution_count": 86,
     "metadata": {},
     "output_type": "execute_result"
    }
   ],
   "source": [
    "store.get((\"emeka\",), \"triage_ignore\").value['prompt']"
   ]
  },
  {
   "cell_type": "code",
   "execution_count": null,
   "id": "e70526e3-66b1-47f6-a562-e860a3d0c0a0",
   "metadata": {},
   "outputs": [],
   "source": [
    "# adding human in the loop we can add it dyanmically or statically I will go with dynamic interrupt"
   ]
  },
  {
   "cell_type": "code",
   "execution_count": 87,
   "id": "3956deb9-b395-4900-b8e2-c062d4032dc8",
   "metadata": {},
   "outputs": [],
   "source": [
    "@tool\n",
    "class Question(BaseModel):\n",
    "    \"\"\"Question to ask the user.\"\"\"\n",
    "    content: str\n",
    "@ tool\n",
    "class Done(BaseModel):\n",
    "    \"\"\"When E-mail has been sent\"\"\"\n",
    "    done: bool\n",
    "    "
   ]
  },
  {
   "cell_type": "code",
   "execution_count": null,
   "id": "783b0a7f-ed32-4c94-9132-35b482064440",
   "metadata": {},
   "outputs": [],
   "source": [
    "def triage_router(state: State, config, store) -> Command[\n",
    "    Literal[\"triage_interrupt_handler\",\"response_agent\", \"__end__\"]\n",
    "]:\n",
    "    # Parse email\n",
    "    author = state['email_input']['author']\n",
    "    to = state['email_input']['to']\n",
    "    subject = state['email_input']['subject']\n",
    "    email_thread = state['email_input']['email_thread']\n",
    "\n",
    "    #create namespace for memory \n",
    "    namespace = (\n",
    "        \"email_assistant\",\n",
    "        config['configurable']['langgraph_user_id'],\n",
    "        \"examples\"\n",
    "    )\n",
    "    # semantic search for name the namespace\n",
    "    examples = store.search(\n",
    "        namespace, \n",
    "        query=str({\"email\": state['email_input']})\n",
    "    ) \n",
    "    # format examples if available\n",
    "    examples=format_few_shot_examples(examples)\n",
    "\n",
    "    # get the user ID\n",
    "    langgraph_user_id = config['configurable']['langgraph_user_id']\n",
    "    namespace = (langgraph_user_id, )\n",
    "\n",
    "    # episodic memory \n",
    "    result = store.get(namespace, \"triage_ignore\")\n",
    "    if result is None:\n",
    "        store.put(\n",
    "            namespace, \n",
    "            \"triage_ignore\", \n",
    "            {\"prompt\": prompt_instructions[\"triage_rules\"][\"ignore\"]}\n",
    "        )\n",
    "        ignore_prompt = prompt_instructions[\"triage_rules\"][\"ignore\"]\n",
    "    else:\n",
    "        ignore_prompt = result.value['prompt']\n",
    "\n",
    "    result = store.get(namespace, \"triage_notify\")\n",
    "    if result is None:\n",
    "        store.put(\n",
    "            namespace, \n",
    "            \"triage_notify\", \n",
    "            {\"prompt\": prompt_instructions[\"triage_rules\"][\"notify\"]}\n",
    "        )\n",
    "        notify_prompt = prompt_instructions[\"triage_rules\"][\"notify\"]\n",
    "    else:\n",
    "        notify_prompt = result.value['prompt']\n",
    "\n",
    "    result = store.get(namespace, \"triage_respond\")\n",
    "    if result is None:\n",
    "        store.put(\n",
    "            namespace, \n",
    "            \"triage_respond\", \n",
    "            {\"prompt\": prompt_instructions[\"triage_rules\"][\"respond\"]}\n",
    "        )\n",
    "        respond_prompt = prompt_instructions[\"triage_rules\"][\"respond\"]\n",
    "    else:\n",
    "        respond_prompt = result.value['prompt']\n",
    "    \n",
    "    system_prompt = triage_system_prompt.format(\n",
    "        full_name=user_profile[\"full_name\"],\n",
    "        name=user_profile[\"name\"],\n",
    "        user_profile_background=user_profile[\"user_profile_background\"],\n",
    "        triage_no=ignore_prompt,\n",
    "        triage_notify=notify_prompt,\n",
    "        triage_email=respond_prompt,\n",
    "        examples=examples\n",
    "    )\n",
    "    user_prompt = triage_user_prompt.format(\n",
    "        author=author, \n",
    "        to=to, \n",
    "        subject=subject, \n",
    "        email_thread=email_thread\n",
    "    )\n",
    "    result = llm_structured_outut.invoke(\n",
    "        [\n",
    "            {\"role\": \"system\", \"content\": system_prompt},\n",
    "            {\"role\": \"user\", \"content\": user_prompt},\n",
    "        ]\n",
    "    )\n",
    "    if result.classification == \"respond\":\n",
    "        print(\"📧 Classification: RESPOND - This email requires a response\")\n",
    "        goto = \"response_agent\"\n",
    "        update = {\n",
    "            \"classification_decision\": result.classification\n",
    "            \"messages\": [\n",
    "                {\n",
    "                    \"role\": \"user\",\n",
    "                    \"content\": f\"Respond to the email {state['email_input']}\",\n",
    "                }\n",
    "            ]\n",
    "        }\n",
    "    elif result.classification == \"ignore\":\n",
    "        print(\"🚫 Classification: IGNORE - This email can be safely ignored\")\n",
    "        update = None\n",
    "        goto = END\n",
    "    elif result.classification == \"notify\":\n",
    "        # If real life, this would do something else\n",
    "        print(\"🔔 Classification: NOTIFY - This email contains important information\")\n",
    "        update ={\n",
    "            \"classification_decision\": result.classification\n",
    "        }\n",
    "        goto = \"triage_interrupt_handler\"\n",
    "    else:\n",
    "        raise ValueError(f\"Invalid classification: {result.classification}\")\n",
    "    return Command(goto=goto, update=update)"
   ]
  },
  {
   "cell_type": "code",
   "execution_count": null,
   "id": "bdc1c674-aff7-4f30-93f4-30981704cfa1",
   "metadata": {},
   "outputs": [],
   "source": [
    "def format_email(subject, author, to, email_thread, email_id=None):\n",
    "    \"\"\"Format email details into a nicely formatted markdown string for display\n",
    "    \n",
    "    Args:\n",
    "        subject: Email subject\n",
    "        author: Email sender\n",
    "        to: Email recipient\n",
    "        email_thread: Email content\n",
    "        email_id: Optional email ID (for Gmail API)\n",
    "    \"\"\"\n",
    "    id_section = f\"\\n**ID**: {email_id}\" if email_id else \"\"\n",
    "    \n",
    "    return f\"\"\"\n",
    "\n",
    "        **Subject**: {subject}\n",
    "        **From**: {author}\n",
    "        **To**: {to}{id_section}\n",
    "        \n",
    "        {email_thread}\n",
    "        \n",
    "        ---\n",
    "        \"\"\""
   ]
  },
  {
   "cell_type": "code",
   "execution_count": null,
   "id": "41ca0f41-3fc4-4f8c-a00d-a299f14d34cf",
   "metadata": {},
   "outputs": [],
   "source": [
    "from langgraph.types import interrupt, Command\n",
    "\n",
    "def traige_interrupt_handler(state: State)-> Command[\n",
    "    Literal[\"response_agent\", \"__end__\"]\n",
    "    ]:\n",
    "    # Parse email\n",
    "    author = state['email_input']['author']\n",
    "    to = state['email_input']['to']\n",
    "    subject = state['email_input']['subject']\n",
    "    email_thread = state['email_input']['email_thread']\n",
    "\n",
    "    formatted_email = format_email(subject, author, to, email_thread, email_id=None)\n",
    "    # Create interrupt that is shown to the user\n",
    "    request = {\n",
    "        \"action_request\": {\n",
    "            \"action\": f\"Email Assistant: {state['classification_decision']}\",\n",
    "            \"args\": {}\n",
    "        },\n",
    "        \"config\": {\n",
    "            \"allow_ignore\": True,  \n",
    "            \"allow_respond\": True, \n",
    "            \"allow_edit\": False, \n",
    "            \"allow_accept\": False,  \n",
    "        },\n",
    "        # Email to show in Agent Inbox\n",
    "        \"description\":formatted_email,\n",
    "    }\n",
    "    # Agent Inbox responds with a list of dicts with a single key `type` that can be `accept`, `edit`, `ignore`, or `response`.  \n",
    "    response = interrupt([request])[0]\n",
    "\n",
    "    # If user provides feedback, go to response agent and use feedback to respond to email   \n",
    "    if response[\"type\"] == \"response\":\n",
    "        # Add feedback to messages \n",
    "        user_input = response[\"args\"]\n",
    "        # Used by the response agent\n",
    "        messages.append({\"role\": \"user\",\n",
    "                        \"content\": f\"User wants to reply to the email. Use this feedback to respond: {user_input}\"\n",
    "                        })\n",
    "        # Go to response agent\n",
    "        goto = \"response_agent\"\n",
    "\n",
    "    # If user ignores email, go to END\n",
    "    elif response[\"type\"] == \"ignore\":\n",
    "        goto = END\n",
    "\n",
    "    # Catch all other responses\n",
    "    else:\n",
    "        raise ValueError(f\"Invalid response: {response}\")\n",
    "\n",
    "    # Update the state \n",
    "    update = {\n",
    "        \"messages\": messages,\n",
    "    }\n",
    "\n",
    "    return Command(goto=goto, update=update)"
   ]
  },
  {
   "cell_type": "code",
   "execution_count": null,
   "id": "22b4ddd4-aee4-4501-907b-52b345e50554",
   "metadata": {},
   "outputs": [],
   "source": [
    "from langgraph.graph import MessagesState\n",
    "\n",
    "# This state class extends the MessagesState\n",
    "class NotifyState(MessagesState):\n",
    "    email_input: dict\n",
    "    classification_decision: Literal[\"ignore\", \"respond\", \"notify\"]"
   ]
  },
  {
   "cell_type": "code",
   "execution_count": null,
   "id": "33b33b75-0bc2-452b-b966-57a487e898d7",
   "metadata": {},
   "outputs": [],
   "source": [
    "# Email assistant with HITL prompt \n",
    "from datetime import datetime\n",
    "agent_system_prompt_hitl = \"\"\"\n",
    "< Role >\n",
    "You are a top-notch executive assistant who cares about helping your executive perform as well as possible.\n",
    "</ Role >\n",
    "\n",
    "< Tools >\n",
    "You have access to the following tools to help manage communications and schedule:\n",
    "{tools_prompt}\n",
    "</ Tools >\n",
    "\n",
    "< Instructions >\n",
    "When handling emails, follow these steps:\n",
    "1. Carefully analyze the email content and purpose\n",
    "2. IMPORTANT --- always call a tool and call one tool at a time until the task is complete: \n",
    "3. If the incoming email asks the user a direct question and you do not have context to answer the question, use the Question tool to ask the user for the answer\n",
    "4. For responding to the email, draft a response email with the write_email tool\n",
    "5. For meeting requests, use the check_calendar_availability tool to find open time slots\n",
    "6. To schedule a meeting, use the schedule_meeting tool with a datetime object for the preferred_day parameter\n",
    "   - Today's date is \"\"\" + datetime.now().strftime(\"%Y-%m-%d\") + \"\"\" - use this for scheduling meetings accurately\n",
    "7. If you scheduled a meeting, then draft a short response email using the write_email tool\n",
    "8. After using the write_email tool, the task is complete\n",
    "9. If you have sent the email, then use the Done tool to indicate that the task is complete\n",
    "</ Instructions >\n",
    "\n",
    "< Background >\n",
    "{background}\n",
    "</ Background >\n",
    "\n",
    "< Response Preferences >\n",
    "{response_preferences}\n",
    "</ Response Preferences >\n",
    "\n",
    "< Calendar Preferences >\n",
    "{cal_preferences}\n",
    "</ Calendar Preferences >\n",
    "\"\"\""
   ]
  },
  {
   "cell_type": "code",
   "execution_count": null,
   "id": "02dd878e-79a1-482b-b4c6-3f444ffb3d78",
   "metadata": {},
   "outputs": [],
   "source": [
    "def create_notify_prompt(state:NotifyState, config, store):\n",
    "    langgraph_user_id = config['configurable']['langgraph_user_id']\n",
    "    namespace = (langgraph_user_id, )\n",
    "    result = store.get(namespace, \"agent_instructions\")\n",
    "    if result is None:\n",
    "        store.put(\n",
    "            namespace, \n",
    "            \"agent_instructions\", \n",
    "            {\"prompt\": prompt_instructions[\"agent_instructions\"]}\n",
    "        )\n",
    "        prompt = prompt_instructions[\"agent_instructions\"]\n",
    "    else:\n",
    "        prompt = result.value['prompt']\n",
    "    \n",
    "    return [\n",
    "        {\n",
    "            \"role\": \"system\", \n",
    "            \"content\": agent_system_prompt_memory.format(\n",
    "                instructions=prompt, \n",
    "                **user_profile\n",
    "            )\n",
    "        }\n",
    "    ] + state['messages']"
   ]
  },
  {
   "cell_type": "code",
   "execution_count": null,
   "id": "be2af360-0b8b-4f14-9ee8-c6cde9722e22",
   "metadata": {},
   "outputs": [],
   "source": [
    "notify_tools = [\n",
    "    write_email,\n",
    "    schedule_meeting,\n",
    "    check_calendar_availability,\n",
    "    Question,\n",
    "    Done,\n",
    "]\n",
    "\n",
    "llm_with_tools = llm.bind_tools(notify_tools, tool_choice=\"required\")\n",
    "\n",
    "def llm_call(state: State):\n",
    "    \"\"\"LLM decides whether to call a tool or not.\"\"\"\n",
    "\n",
    "    return {\n",
    "        \"messages\": [\n",
    "            llm_with_tools.invoke(\n",
    "                [\n",
    "                    {\"role\": \"system\", \"content\": agent_system_prompt_hitl.format(tools_prompt=HITL_TOOLS_PROMPT, \n",
    "                                                                                  background=default_background,\n",
    "                                                                                  response_preferences=default_response_preferences, \n",
    "                                                                                  cal_preferences=default_cal_preferences)}\n",
    "                ]\n",
    "                + state[\"messages\"]\n",
    "            )\n",
    "        ]\n",
    "    }"
   ]
  },
  {
   "cell_type": "code",
   "execution_count": null,
   "id": "0eb3422f-89df-41d1-a68b-71aebd50cf12",
   "metadata": {},
   "outputs": [],
   "source": [
    "def format_for_display(tool_call):\n",
    "    \"\"\"Format content for display in Agent Inbox\n",
    "    \n",
    "    Args:\n",
    "        tool_call: The tool call to format\n",
    "    \"\"\"\n",
    "    # Initialize empty display\n",
    "    display = \"\"\n",
    "    \n",
    "    # Add tool call information\n",
    "    if tool_call[\"name\"] == \"write_email\":\n",
    "        display += f\"\"\"# Email Draft\n",
    "\n",
    "**To**: {tool_call[\"args\"].get(\"to\")}\n",
    "**Subject**: {tool_call[\"args\"].get(\"subject\")}\n",
    "\n",
    "{tool_call[\"args\"].get(\"content\")}\n",
    "\"\"\"\n",
    "    elif tool_call[\"name\"] == \"schedule_meeting\":\n",
    "        display += f\"\"\"# Calendar Invite\n",
    "\n",
    "**Meeting**: {tool_call[\"args\"].get(\"subject\")}\n",
    "**Attendees**: {', '.join(tool_call[\"args\"].get(\"attendees\"))}\n",
    "**Duration**: {tool_call[\"args\"].get(\"duration_minutes\")} minutes\n",
    "**Day**: {tool_call[\"args\"].get(\"preferred_day\")}\n",
    "\"\"\"\n",
    "    elif tool_call[\"name\"] == \"Question\":\n",
    "        # Special formatting for questions to make them clear\n",
    "        display += f\"\"\"# Question for User\n",
    "\n",
    "{tool_call[\"args\"].get(\"content\")}\n",
    "\"\"\"\n",
    "    else:\n",
    "        # Generic format for other tools\n",
    "        display += f\"\"\"# Tool Call: {tool_call[\"name\"]}\n",
    "\n",
    "Arguments:\"\"\"\n",
    "        \n",
    "        # Check if args is a dictionary or string\n",
    "        if isinstance(tool_call[\"args\"], dict):\n",
    "            display += f\"\\n{json.dumps(tool_call['args'], indent=2)}\\n\"\n",
    "        else:\n",
    "            display += f\"\\n{tool_call['args']}\\n\"\n",
    "    return display\n"
   ]
  },
  {
   "cell_type": "code",
   "execution_count": null,
   "id": "a23edad2-3988-40d0-b4d5-8aa73ee862b1",
   "metadata": {},
   "outputs": [],
   "source": [
    "def interrupt_handler(state: State) -> Command[Literal[\"llm_call\", \"__end__\"]]:\n",
    "    \"\"\"Creates an interrupt for human review of tool calls\"\"\"\n",
    "    \n",
    "    # Store messages\n",
    "    result = []\n",
    "\n",
    "    # Go to the LLM call node next\n",
    "    goto = \"llm_call\"\n",
    "\n",
    "    # Iterate over the tool calls in the last message\n",
    "    for tool_call in state[\"messages\"][-1].tool_calls:\n",
    "        \n",
    "        # Allowed tools for HITL\n",
    "        hitl_tools = (\"write_email\", \"schedule_meeting\", \"Question\")\n",
    "        \n",
    "        # If tool is not in our HITL list, execute it directly without interruption\n",
    "        if tool_call[\"name\"] not in hitl_tools:\n",
    "\n",
    "            # Execute tool without interruption\n",
    "            tool = tools_by_name[tool_call[\"name\"]]\n",
    "            observation = tool.invoke(tool_call[\"args\"])\n",
    "            result.append({\"role\": \"tool\", \"content\": observation, \"tool_call_id\": tool_call[\"id\"]})\n",
    "            continue\n",
    "            \n",
    "        # Get original email from email_input in state\n",
    "        author = state['email_input']['author']\n",
    "        to = state['email_input']['to']\n",
    "        subject = state['email_input']['subject']\n",
    "        email_thread = state['email_input']['email_thread']\n",
    "        email_input = format_email(subject, author, to, email_thread)\n",
    "        \n",
    "        # Format tool call for display and prepend the original email\n",
    "        tool_display = format_for_display(tool_call)\n",
    "        description = email_input + tool_display\n",
    "\n",
    "        # Configure what actions are allowed in Agent Inbox\n",
    "        if tool_call[\"name\"] == \"write_email\":\n",
    "            config = {\n",
    "                \"allow_ignore\": True,\n",
    "                \"allow_respond\": True,\n",
    "                \"allow_edit\": True,\n",
    "                \"allow_accept\": True,\n",
    "            }\n",
    "        elif tool_call[\"name\"] == \"schedule_meeting\":\n",
    "            config = {\n",
    "                \"allow_ignore\": True,\n",
    "                \"allow_respond\": True,\n",
    "                \"allow_edit\": True,\n",
    "                \"allow_accept\": True,\n",
    "            }\n",
    "        elif tool_call[\"name\"] == \"Question\":\n",
    "            config = {\n",
    "                \"allow_ignore\": True,\n",
    "                \"allow_respond\": True,\n",
    "                \"allow_edit\": False,\n",
    "                \"allow_accept\": False,\n",
    "            }\n",
    "        else:\n",
    "            raise ValueError(f\"Invalid tool call: {tool_call['name']}\")\n",
    "\n",
    "        # Create the interrupt request\n",
    "        request = {\n",
    "            \"action_request\": {\n",
    "                \"action\": tool_call[\"name\"],\n",
    "                \"args\": tool_call[\"args\"]\n",
    "            },\n",
    "            \"config\": config,\n",
    "            \"description\": description,\n",
    "        }\n",
    "\n",
    "        # Send to Agent Inbox and wait for response\n",
    "        response = interrupt([request])[0]\n",
    "\n",
    "        # Handle the responses \n",
    "        if response[\"type\"] == \"accept\":\n",
    "\n",
    "            # Execute the tool with original args\n",
    "            tool = tools_by_name[tool_call[\"name\"]]\n",
    "            observation = tool.invoke(tool_call[\"args\"])\n",
    "            result.append({\"role\": \"tool\", \"content\": observation, \"tool_call_id\": tool_call[\"id\"]})\n",
    "                        \n",
    "        elif response[\"type\"] == \"edit\":\n",
    "\n",
    "            # Tool selection \n",
    "            tool = tools_by_name[tool_call[\"name\"]]\n",
    "            \n",
    "            # Get edited args from Agent Inbox\n",
    "            edited_args = response[\"args\"][\"args\"]\n",
    "\n",
    "            # Update the AI message's tool call with edited content (reference to the message in the state)\n",
    "            ai_message = state[\"messages\"][-1] # Get the most recent message from the state\n",
    "            current_id = tool_call[\"id\"] # Store the ID of the tool call being edited\n",
    "            \n",
    "            # Create a new list of tool calls by filtering out the one being edited and adding the updated version\n",
    "            # This avoids modifying the original list directly (immutable approach)\n",
    "            updated_tool_calls = [tc for tc in ai_message.tool_calls if tc[\"id\"] != current_id] + [\n",
    "                {\"type\": \"tool_call\", \"name\": tool_call[\"name\"], \"args\": edited_args, \"id\": current_id}\n",
    "            ]\n",
    "            \n",
    "            # Create a new copy of the message with updated tool calls rather than modifying the original\n",
    "            # This ensures state immutability and prevents side effects in other parts of the code\n",
    "            # When we update the messages state key (\"messages\": result), the add_messages reducer will\n",
    "            # overwrite existing messages by id and we take advantage of this here to update the tool calls.\n",
    "            result.append(ai_message.model_copy(update={\"tool_calls\": updated_tool_calls}))\n",
    "\n",
    "            # Update the write_email tool call with the edited content from Agent Inbox\n",
    "            if tool_call[\"name\"] == \"write_email\":\n",
    "                \n",
    "                # Execute the tool with edited args\n",
    "                observation = tool.invoke(edited_args)\n",
    "                \n",
    "                # Add only the tool response message\n",
    "                result.append({\"role\": \"tool\", \"content\": observation, \"tool_call_id\": current_id})\n",
    "            \n",
    "            # Update the schedule_meeting tool call with the edited content from Agent Inbox\n",
    "            elif tool_call[\"name\"] == \"schedule_meeting\":\n",
    "                \n",
    "                \n",
    "                # Execute the tool with edited args\n",
    "                observation = tool.invoke(edited_args)\n",
    "                \n",
    "                # Add only the tool response message\n",
    "                result.append({\"role\": \"tool\", \"content\": observation, \"tool_call_id\": current_id})\n",
    "            \n",
    "            # Catch all other tool calls\n",
    "            else:\n",
    "                raise ValueError(f\"Invalid tool call: {tool_call['name']}\")\n",
    "\n",
    "        elif response[\"type\"] == \"ignore\":\n",
    "            if tool_call[\"name\"] == \"write_email\":\n",
    "                # Don't execute the tool, and tell the agent how to proceed\n",
    "                result.append({\"role\": \"tool\", \"content\": \"User ignored this email draft. Ignore this email and end the workflow.\", \"tool_call_id\": tool_call[\"id\"]})\n",
    "                # Go to END\n",
    "                goto = END\n",
    "            elif tool_call[\"name\"] == \"schedule_meeting\":\n",
    "                # Don't execute the tool, and tell the agent how to proceed\n",
    "                result.append({\"role\": \"tool\", \"content\": \"User ignored this calendar meeting draft. Ignore this email and end the workflow.\", \"tool_call_id\": tool_call[\"id\"]})\n",
    "                # Go to END\n",
    "                goto = END\n",
    "            elif tool_call[\"name\"] == \"Question\":\n",
    "                # Don't execute the tool, and tell the agent how to proceed\n",
    "                result.append({\"role\": \"tool\", \"content\": \"User ignored this question. Ignore this email and end the workflow.\", \"tool_call_id\": tool_call[\"id\"]})\n",
    "                # Go to END\n",
    "                goto = END\n",
    "            else:\n",
    "                raise ValueError(f\"Invalid tool call: {tool_call['name']}\")\n",
    "            \n",
    "        elif response[\"type\"] == \"response\":\n",
    "            # User provided feedback\n",
    "            user_feedback = response[\"args\"]\n",
    "            if tool_call[\"name\"] == \"write_email\":\n",
    "                # Don't execute the tool, and add a message with the user feedback to incorporate into the email\n",
    "                result.append({\"role\": \"tool\", \"content\": f\"User gave feedback, which can we incorporate into the email. Feedback: {user_feedback}\", \"tool_call_id\": tool_call[\"id\"]})\n",
    "            elif tool_call[\"name\"] == \"schedule_meeting\":\n",
    "                # Don't execute the tool, and add a message with the user feedback to incorporate into the email\n",
    "                result.append({\"role\": \"tool\", \"content\": f\"User gave feedback, which can we incorporate into the meeting request. Feedback: {user_feedback}\", \"tool_call_id\": tool_call[\"id\"]})\n",
    "            elif tool_call[\"name\"] == \"Question\": \n",
    "                # Don't execute the tool, and add a message with the user feedback to incorporate into the email\n",
    "                result.append({\"role\": \"tool\", \"content\": f\"User answered the question, which can we can use for any follow up actions. Feedback: {user_feedback}\", \"tool_call_id\": tool_call[\"id\"]})\n",
    "            else:\n",
    "                raise ValueError(f\"Invalid tool call: {tool_call['name']}\")\n",
    "\n",
    "        # Catch all other responses\n",
    "        else:\n",
    "            raise ValueError(f\"Invalid response: {response}\")\n",
    "            \n",
    "    # Update the state \n",
    "    update = {\n",
    "        \"messages\": result,\n",
    "    }\n",
    "\n",
    "    return Command(goto=goto, update=update)"
   ]
  },
  {
   "cell_type": "code",
   "execution_count": null,
   "id": "bf68be2f-d105-4ed5-abaa-1286ade2afd2",
   "metadata": {},
   "outputs": [],
   "source": [
    "from email_assistant.utils import show_graph\n",
    "class StateInput(TypedDict):\n",
    "    # This is the input to the state\n",
    "    email_input: dict\n",
    "    \n",
    "# Conditional edge function\n",
    "def should_continue(state: State) -> Literal[\"interrupt_handler\", \"__end__\"]:\n",
    "    \"\"\"Route to tool handler, or end if Done tool called\"\"\"\n",
    "    messages = state[\"messages\"]\n",
    "    last_message = messages[-1]\n",
    "    if last_message.tool_calls:\n",
    "        for tool_call in last_message.tool_calls: \n",
    "            if tool_call[\"name\"] == \"Done\":\n",
    "                return END\n",
    "            else:\n",
    "                return \"interrupt_handler\"\n",
    "\n",
    "# Build workflow\n",
    "agent_builder = StateGraph(State)\n",
    "\n",
    "# Add nodes\n",
    "agent_builder.add_node(\"llm_call\", llm_call)\n",
    "agent_builder.add_node(\"interrupt_handler\", interrupt_handler)\n",
    "\n",
    "# Add edges\n",
    "agent_builder.add_edge(START, \"llm_call\")\n",
    "agent_builder.add_conditional_edges(\n",
    "    \"llm_call\",\n",
    "    should_continue,\n",
    "    {\n",
    "        \"interrupt_handler\": \"interrupt_handler\",\n",
    "        END: END,\n",
    "    },\n",
    ")\n",
    "\n",
    "# Compile the agent\n",
    "response_agent = agent_builder.compile()\n",
    "\n",
    "# Build overall workflow\n",
    "overall_workflow = (\n",
    "    StateGraph(State, input=StateInput)\n",
    "    .add_node(triage_router)\n",
    "    .add_node(triage_interrupt_handler)\n",
    "    .add_node(\"response_agent\", response_agent)\n",
    "    .add_edge(START, \"triage_router\")\n",
    "    \n",
    ")\n",
    "checkpointer = InMemorySaver()\n",
    "email_agent = overall_workflow.compile()\n",
    "# Show the agent\n",
    "display(Image(email_agent.get_graph(xray=True).draw_mermaid_png()))"
   ]
  },
  {
   "cell_type": "code",
   "execution_count": null,
   "id": "583ecfcf-a0d1-4c0e-aa52-4aac86d1930e",
   "metadata": {},
   "outputs": [],
   "source": [
    "graph = overall_workflow.compile(checkpointer=checkpointer)\n",
    "thread_id_1 = uuid.uuid4()\n",
    "thread_config_1 = {\"configurable\": {\"thread_id\": thread_id_1}}\n",
    "\n",
    "# Run the graph until a tool call that we choose to interrupt\n",
    "print(\"Running the graph until the first interrupt...\")\n",
    "for chunk in graph.stream({\"email_input\": email_input_respond}, config=thread_config_1):\n",
    "    # Inspect interrupt object if present\n",
    "    if '__interrupt__' in chunk:\n",
    "        Interrupt_Object = chunk['__interrupt__'][0]\n",
    "        print(\"\\nINTERRUPT OBJECT:\")\n",
    "        print(f\"Action Request: {Interrupt_Object.value[0]['action_request']}\")"
   ]
  },
  {
   "cell_type": "code",
   "execution_count": null,
   "id": "4f53ebc2-88dc-467e-9ce9-62d53f9a34a3",
   "metadata": {},
   "outputs": [],
   "source": [
    "from langgraph.types import Command\n",
    "\n",
    "print(f\"\\nSimulating user accepting the {Interrupt_Object.value[0]['action_request']} tool call...\")\n",
    "for chunk in graph.stream(Command(resume=[{\"type\": \"accept\"}]), config=thread_config_1):\n",
    "    # Inspect interrupt object if present\n",
    "    if '__interrupt__' in chunk:\n",
    "        Interrupt_Object = chunk['__interrupt__'][0]\n",
    "        print(\"\\nINTERRUPT OBJECT:\")\n",
    "        print(f\"Action Request: {Interrupt_Object.value[0]['action_request']}\")"
   ]
  },
  {
   "cell_type": "code",
   "execution_count": null,
   "id": "d7da336e-4c8d-4233-8e50-a7d469c9cdc7",
   "metadata": {},
   "outputs": [],
   "source": [
    "print(f\"\\nSimulating user accepting the {Interrupt_Object.value[0]['action_request']} tool call...\")\n",
    "for chunk in graph.stream(Command(resume=[{\"type\": \"accept\"}]), config=thread_config_1):\n",
    "    # Inspect interrupt object if present\n",
    "    if '__interrupt__' in chunk:\n",
    "        Interrupt_Object = chunk['__interrupt__'][0]\n",
    "        print(\"\\nINTERRUPT OBJECT:\")\n",
    "        print(f\"Action Request: {Interrupt_Object.value[0]['action_request']}\")"
   ]
  },
  {
   "cell_type": "code",
   "execution_count": null,
   "id": "a1e47ffc-0a28-4dac-bbc6-2f0b993dbe9b",
   "metadata": {},
   "outputs": [],
   "source": [
    "state = graph.get_state(thread_config_1)\n",
    "for m in state.values['messages']:\n",
    "    m.pretty_print()"
   ]
  },
  {
   "cell_type": "code",
   "execution_count": null,
   "id": "714aaa15-dadc-4680-a3f8-0a03100dc139",
   "metadata": {},
   "outputs": [],
   "source": [
    "# Same email as before\n",
    "email_input_respond = {\n",
    "    \"to\": \"Lance Martin <lance@company.com>\",\n",
    "    \"author\": \"Project Manager <pm@client.com>\",\n",
    "    \"subject\": \"Tax season let's schedule call\",\n",
    "    \"email_thread\": \"Lance,\\n\\nIt's tax season again, and I wanted to schedule a call to discuss your tax planning strategies for this year. I have some suggestions that could potentially save you money.\\n\\nAre you available sometime next week? Tuesday or Thursday afternoon would work best for me, for about 45 minutes.\\n\\nRegards,\\nProject Manager\"\n",
    "}\n",
    "\n",
    "# Compile the graph with new thread\n",
    "checkpointer = InMemorySaver()\n",
    "graph = overall_workflow.compile(checkpointer=checkpointer)\n",
    "thread_id_2 = uuid.uuid4()\n",
    "thread_config_2 = {\"configurable\": {\"thread_id\": thread_id_2}}\n",
    "\n",
    "# Run the graph until the first interrupt - will be classified as \"respond\" and the agent will create a write_email tool call\n",
    "print(\"Running the graph until the first interrupt...\")\n",
    "for chunk in graph.stream({\"email_input\": email_input_respond}, config=thread_config_2):\n",
    "    # Inspect interrupt object if present\n",
    "    if '__interrupt__' in chunk:\n",
    "        Interrupt_Object = chunk['__interrupt__'][0]\n",
    "        print(\"\\nINTERRUPT OBJECT:\")\n",
    "        print(f\"Action Request: {Interrupt_Object.value[0]['action_request']}\")"
   ]
  },
  {
   "cell_type": "code",
   "execution_count": null,
   "id": "029494e3-10f1-43f1-be2e-506010f06beb",
   "metadata": {},
   "outputs": [],
   "source": [
    "# Now simulate user editing the schedule_meeting tool call\n",
    "print(\"\\nSimulating user editing the schedule_meeting tool call...\")\n",
    "edited_schedule_args = {\n",
    "    \"attendees\": [\"pm@client.com\", \"lance@company.com\"],\n",
    "    \"subject\": \"Tax Planning Discussion\",\n",
    "    \"duration_minutes\": 30,  # Changed from 45 to 30\n",
    "    \"preferred_day\": \"2025-05-06\",\n",
    "    \"start_time\": 14 \n",
    "}\n",
    "\n",
    "for chunk in graph.stream(Command(resume=[{\"type\": \"edit\", \"args\": {\"args\": edited_schedule_args}}]), config=thread_config_2):\n",
    "    # Inspect response_agent most recent message\n",
    "    if 'response_agent' in chunk:\n",
    "        chunk['response_agent']['messages'][-1].pretty_print()\n",
    "    # Inspect interrupt object if present\n",
    "    if '__interrupt__' in chunk:\n",
    "        Interrupt_Object = chunk['__interrupt__'][0]\n",
    "        print(\"\\nINTERRUPT OBJECT:\")\n",
    "        print(f\"Action Request: {Interrupt_Object.value[0]['action_request']}\")"
   ]
  },
  {
   "cell_type": "code",
   "execution_count": null,
   "id": "79bdc38f-9f72-4dfd-a56d-25734ac7cce5",
   "metadata": {},
   "outputs": [],
   "source": [
    "# Now simulate user editing the write_email tool call\n",
    "print(\"\\nSimulating user editing the write_email tool call...\")\n",
    "edited_email_args = {\n",
    "    \"to\": \"pm@client.com\",\n",
    "    \"subject\": \"Re: Tax season let's schedule call\",\n",
    "    \"content\": \"Hello Project Manager,\\n\\nThank you for reaching out about tax planning. I scheduled a 30-minute call next Thursday at 3:00 PM. Would that work for you?\\n\\nBest regards,\\nLance Martin\"\n",
    "}\n",
    "\n",
    "for chunk in graph.stream(Command(resume=[{\"type\": \"edit\", \"args\": {\"args\": edited_email_args}}]), config=thread_config_2):\n",
    "    # Inspect response_agent most recent message\n",
    "    if 'response_agent' in chunk:\n",
    "        chunk['response_agent']['messages'][-1].pretty_print()\n",
    "    # Inspect interrupt object if present\n",
    "    if '__interrupt__' in chunk:\n",
    "        Interrupt_Object = chunk['__interrupt__'][0]\n",
    "        print(\"\\nINTERRUPT OBJECT:\")\n",
    "        print(f\"Action Request: {Interrupt_Object.value[0]['action_request']}\")"
   ]
  },
  {
   "cell_type": "code",
   "execution_count": null,
   "id": "aaa4bb96-7724-427b-9081-5cf55171af13",
   "metadata": {},
   "outputs": [],
   "source": [
    "state = graph.get_state(thread_config_2)\n",
    "for m in state.values['messages']:\n",
    "    m.pretty_print()"
   ]
  },
  {
   "cell_type": "code",
   "execution_count": null,
   "id": "0d4f2d09-f9c9-4e3f-b8e4-1e8c3270c73e",
   "metadata": {},
   "outputs": [],
   "source": [
    "# Respond - Meeting Request Email\n",
    "email_input_respond = {\n",
    "    \"to\": \"Lance Martin <lance@company.com>\",\n",
    "    \"author\": \"Project Manager <pm@client.com>\",\n",
    "    \"subject\": \"Tax season let's schedule call\",\n",
    "    \"email_thread\": \"Lance,\\n\\nIt's tax season again, and I wanted to schedule a call to discuss your tax planning strategies for this year. I have some suggestions that could potentially save you money.\\n\\nAre you available sometime next week? Tuesday or Thursday afternoon would work best for me, for about 45 minutes.\\n\\nRegards,\\nProject Manager\"\n",
    "}\n",
    "\n",
    "# Compile the graph\n",
    "checkpointer = InMemorySaver()\n",
    "graph = overall_workflow.compile(checkpointer=checkpointer)\n",
    "thread_id_5 = uuid.uuid4()\n",
    "thread_config_5 = {\"configurable\": {\"thread_id\": thread_id_5}}\n",
    "\n",
    "# Run the graph until the first interrupt \n",
    "# Email will be classified as \"respond\" \n",
    "# Agent will create a schedule_meeting and write_email tool call\n",
    "print(\"Running the graph until the first interrupt...\")\n",
    "for chunk in graph.stream({\"email_input\": email_input_respond}, config=thread_config_5):\n",
    "    # Inspect interrupt object if present\n",
    "    if '__interrupt__' in chunk:\n",
    "        Interrupt_Object = chunk['__interrupt__'][0]\n",
    "        print(\"\\nINTERRUPT OBJECT:\")\n",
    "        print(f\"Action Request: {Interrupt_Object.value[0]['action_request']}\")"
   ]
  },
  {
   "cell_type": "code",
   "execution_count": null,
   "id": "45c5f124-6105-4c93-a53c-b6bad190939c",
   "metadata": {},
   "outputs": [],
   "source": [
    "print(f\"\\nSimulating user providing feedback for the {Interrupt_Object.value[0]['action_request']['action']} tool call...\")\n",
    "for chunk in graph.stream(Command(resume=[{\"type\": \"response\", \"args\": \"Please schedule this for 30 minutes instead of 45 minutes, and I prefer afternoon meetings after 2pm.\"}]), config=thread_config_5):\n",
    "    # Inspect interrupt object if present\n",
    "    if '__interrupt__' in chunk:\n",
    "        Interrupt_Object = chunk['__interrupt__'][0]\n",
    "        print(\"\\nINTERRUPT OBJECT:\")\n",
    "        print(f\"Action Request: {Interrupt_Object.value[0]['action_request']}\")"
   ]
  },
  {
   "cell_type": "code",
   "execution_count": null,
   "id": "1730867f-de7a-4ca2-806f-f4fa44e57c5a",
   "metadata": {},
   "outputs": [],
   "source": [
    "print(f\"\\nSimulating user accepting the {Interrupt_Object.value[0]['action_request']} tool call...\")\n",
    "for chunk in graph.stream(Command(resume=[{\"type\": \"accept\"}]), config=thread_config_5):\n",
    "    # Inspect interrupt object if present\n",
    "    if '__interrupt__' in chunk:\n",
    "        Interrupt_Object = chunk['__interrupt__'][0]\n",
    "        print(\"\\nINTERRUPT OBJECT:\")\n",
    "        print(f\"Action Request: {Interrupt_Object.value[0]['action_request']}\")"
   ]
  },
  {
   "cell_type": "code",
   "execution_count": null,
   "id": "8d2aeeac-8101-46ed-ac79-b89e142fcb62",
   "metadata": {},
   "outputs": [],
   "source": [
    "print(f\"\\nSimulating user providing feedback for the {Interrupt_Object.value[0]['action_request']['action']} tool call...\")\n",
    "for chunk in graph.stream(Command(resume=[{\"type\": \"response\", \"args\": \"Shorter and less formal. Include a closing statement about looking forward to the meeting!\"}]), config=thread_config_5):\n",
    "    # Inspect response_agent most recent message\n",
    "    if 'response_agent' in chunk:\n",
    "        chunk['response_agent']['messages'][-1].pretty_print()\n",
    "    # Inspect interrupt object if present\n",
    "    if '__interrupt__' in chunk:\n",
    "        Interrupt_Object = chunk['__interrupt__'][0]\n",
    "        print(\"\\nINTERRUPT OBJECT:\")\n",
    "        print(f\"Action Request: {Interrupt_Object.value[0]['action_request']}\")"
   ]
  },
  {
   "cell_type": "code",
   "execution_count": null,
   "id": "801338f9-f0aa-421d-872a-8fc07221b93b",
   "metadata": {},
   "outputs": [],
   "source": [
    "print(f\"\\nSimulating user accepting the {Interrupt_Object.value[0]['action_request']} tool call...\")\n",
    "for chunk in graph.stream(Command(resume=[{\"type\": \"accept\"}]), config=thread_config_5):\n",
    "    # Inspect interrupt object if present\n",
    "    if '__interrupt__' in chunk:\n",
    "        Interrupt_Object = chunk['__interrupt__'][0]\n",
    "        print(\"\\nINTERRUPT OBJECT:\")\n",
    "        print(f\"Action Request: {Interrupt_Object.value[0]['action_request']}\")"
   ]
  },
  {
   "cell_type": "code",
   "execution_count": null,
   "id": "655510b6-8d33-4b60-b271-9442fba6c6b9",
   "metadata": {},
   "outputs": [],
   "source": [
    "state = graph.get_state(thread_config_5)\n",
    "for m in state.values['messages']:\n",
    "    m.pretty_print()"
   ]
  },
  {
   "cell_type": "code",
   "execution_count": null,
   "id": "d5d766b9-26f8-4881-a533-e349c14d45a1",
   "metadata": {},
   "outputs": [],
   "source": [
    "# Respond\n",
    "email_input_respond = {\n",
    "    \"to\": \"Lance Martin <lance@company.com>\",\n",
    "    \"author\": \"Partner <partner@home.com>\",\n",
    "    \"subject\": \"Dinner?\",\n",
    "    \"email_thread\": \"Hey, do you want italian or indian tonight?\"}\n",
    "\n",
    "# Compile the graph\n",
    "checkpointer = InMemorySaver()\n",
    "graph = overall_workflow.compile(checkpointer=checkpointer)\n",
    "thread_id_6 = uuid.uuid4()\n",
    "thread_config_6 = {\"configurable\": {\"thread_id\": thread_id_6}}\n",
    "\n",
    "# Run the graph until the first interrupt\n",
    "print(\"Running the graph until the first interrupt...\")\n",
    "for chunk in graph.stream({\"email_input\": email_input_respond}, config=thread_config_6):\n",
    "    # Inspect interrupt object if present\n",
    "    if '__interrupt__' in chunk:\n",
    "        Interrupt_Object = chunk['__interrupt__'][0]\n",
    "        print(\"\\nINTERRUPT OBJECT:\")\n",
    "        print(f\"Action Request: {Interrupt_Object.value[0]['action_request']}\")"
   ]
  },
  {
   "cell_type": "code",
   "execution_count": null,
   "id": "99dc2b85-ad09-455f-8574-9f63381a6b6d",
   "metadata": {},
   "outputs": [],
   "source": [
    "print(f\"\\nSimulating user providing feedback for the {Interrupt_Object.value[0]['action_request']['action']} tool call...\")\n",
    "for chunk in graph.stream(Command(resume=[{\"type\": \"response\", \"args\": \"Let's do indian.\"}]), config=thread_config_6):\n",
    "    # Inspect interrupt object if present\n",
    "    if '__interrupt__' in chunk:\n",
    "        Interrupt_Object = chunk['__interrupt__'][0]\n",
    "        print(\"\\nINTERRUPT OBJECT:\")\n",
    "        print(f\"Action Request: {Interrupt_Object.value[0]['action_request']}\")"
   ]
  },
  {
   "cell_type": "code",
   "execution_count": null,
   "id": "270cbd97-62b4-40eb-a799-17fe33ddf025",
   "metadata": {},
   "outputs": [],
   "source": [
    "print(f\"\\nSimulating user accepting the {Interrupt_Object.value[0]['action_request']['action']} tool call...\")\n",
    "for chunk in graph.stream(Command(resume=[{\"type\": \"accept\"}]), config=thread_config_6):\n",
    "    # Inspect response_agent most recent message\n",
    "    if 'response_agent' in chunk:\n",
    "        chunk['response_agent']['messages'][-1].pretty_print()\n",
    "    # Inspect interrupt object if present\n",
    "    if '__interrupt__' in chunk:\n",
    "        Interrupt_Object = chunk['__interrupt__'][0]\n",
    "        print(\"\\nINTERRUPT OBJECT:\")\n",
    "        print(f\"Action Request: {Interrupt_Object.value[0]['action_request']}\")"
   ]
  },
  {
   "cell_type": "code",
   "execution_count": null,
   "id": "efab3b98-acb4-4af5-9902-b207596980e9",
   "metadata": {},
   "outputs": [],
   "source": [
    "state = graph.get_state(thread_config_6)\n",
    "for m in state.values['messages']:\n",
    "    m.pretty_print()"
   ]
  },
  {
   "cell_type": "code",
   "execution_count": null,
   "id": "0b1f51c6-0aa1-4500-8297-c6241ce05267",
   "metadata": {},
   "outputs": [],
   "source": [
    "# Deployment\n",
    "{\n",
    "  \"author\": \"Alice Smith <alice.smith@company.com>\",\n",
    "  \"to\": \"John Doe <john.doe@company.com>\",\n",
    "  \"subject\": \"Quick question about API documentation\",\n",
    "  \"email_thread\": \"Hi John,\\nI was reviewing the API documentation for the new authentication service and noticed a few endpoints seem to be missing from the specs. Could you help clarify if this was intentional or if we should update the docs?\\nSpecifically, I'm looking at:\\n- /auth/refresh\\n- /auth/validate\\nThanks!\\nAlice\"\n",
    "}"
   ]
  }
 ],
 "metadata": {
  "kernelspec": {
   "display_name": "Python 3 (ipykernel)",
   "language": "python",
   "name": "python3"
  },
  "language_info": {
   "codemirror_mode": {
    "name": "ipython",
    "version": 3
   },
   "file_extension": ".py",
   "mimetype": "text/x-python",
   "name": "python",
   "nbconvert_exporter": "python",
   "pygments_lexer": "ipython3",
   "version": "3.12.11"
  }
 },
 "nbformat": 4,
 "nbformat_minor": 5
}
